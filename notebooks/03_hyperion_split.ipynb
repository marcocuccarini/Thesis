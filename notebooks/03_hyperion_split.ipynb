{
 "cells": [
  {
   "cell_type": "code",
   "execution_count": 1,
   "metadata": {},
   "outputs": [],
   "source": [
    "import pandas as pd\n",
    "import numpy as np\n",
    "import math"
   ]
  },
  {
   "cell_type": "code",
   "execution_count": 2,
   "metadata": {},
   "outputs": [],
   "source": [
    "def clean_text(df):\n",
    "    for i, t in enumerate(df['Testo']):\n",
    "        if len(t) < 4:\n",
    "            df['Testo'][i] = ''\n",
    "    return df\n",
    "\n",
    "def fill_null_features(df):\n",
    "    for c in ['Domanda','Testo']:\n",
    "        for i in range(0,len(df.index)):  \n",
    "            if not df[c][i]:\n",
    "                j=i\n",
    "                while j>0: \n",
    "                    j-=1\n",
    "                    if df[c][j]:\n",
    "                        df[c][i] = df[c][j]\n",
    "                        break\n",
    "    return df\n",
    "\n",
    "# Se lo stralcio è vuoto, prendo tutto il testo come stralcio. Non usata su Hyperion\n",
    "def copy_text(df):\n",
    "    for i in range(0,len(df.index)):  \n",
    "            if not df['Stralcio'][i]:\n",
    "                df['Stralcio'][i] = df['Testo'][i]\n",
    "    return df\n",
    "\n",
    "def add_context(df):\n",
    "    context_list = []\n",
    "    for i, span in enumerate(df['Testo']):\n",
    "        \n",
    "        # first row\n",
    "        if i == 0:\n",
    "            context =span + ' ' + df['Stralcio'][i+1]\n",
    "        #last row\n",
    "        elif i == len(df.index)-1:\n",
    "            context = df['Stralcio'][i-1] + ' ' + span\n",
    "        \n",
    "        #text with only 1 span\n",
    "        elif df['Testo'][i] and df['Testo'][i+1]:\n",
    "            context = span\n",
    "        #first span\n",
    "        elif df['Testo'][i]:\n",
    "            context = span + ' ' + df['Stralcio'][i+1]\n",
    "        #last span\n",
    "        elif df['Testo'][i+1]:\n",
    "            context = df['Stralcio'][i-1] + ' ' + span\n",
    "        \n",
    "        else:\n",
    "            context = df['Stralcio'][i-1] + ' ' + span + ' ' + df['Stralcio'][i+1]\n",
    "        context_list.append(context)\n",
    "    df['Contesto']= context_list\n",
    "    print(len(context_list))\n",
    "    return df\n",
    "\n",
    "def uniform_labels(df):\n",
    "    df['Repertorio'].replace('implicazioni','implicazione', inplace=True)\n",
    "    df['Repertorio'].replace('previsioni','previsione', inplace=True)\n",
    "\n"
   ]
  },
  {
   "cell_type": "code",
   "execution_count": 3,
   "metadata": {},
   "outputs": [
    {
     "name": "stdout",
     "output_type": "stream",
     "text": [
      "Numero stralci: 35474\n",
      "Numero stralci dopo eliminazione: 35148\n"
     ]
    }
   ],
   "source": [
    "#Hyperion dataset\n",
    "df = pd.read_csv('../data/raw/original_csv/hyperion.csv', na_filter=False)\n",
    "df = clean_text(df)\n",
    "#df = add_context(df)\n",
    "df['Repertorio'] = df['Repertorio'].str.lower()\n",
    "uniform_labels(df)\n",
    "\n",
    "\n",
    "print('Numero stralci: ' + str(len(df.index)))\n",
    "filter = df[\"Repertorio\"] != \"\"\n",
    "df = df[filter]\n",
    "#df = df.applymap(str.lower)\n",
    "print('Numero stralci dopo eliminazione: ' + str(len(df.index)))\n"
   ]
  },
  {
   "cell_type": "code",
   "execution_count": 4,
   "metadata": {},
   "outputs": [
    {
     "data": {
      "text/plain": [
       "Domanda       A cosa serve questo testo per il perseguimento...\n",
       "Testo         Dunque vediamo se ho capito: Conte le canta a ...\n",
       "Stralcio                           Dunque vediamo se ho capito:\n",
       "Repertorio                             dichiarazione di intenti\n",
       "Name: 0, dtype: object"
      ]
     },
     "execution_count": 4,
     "metadata": {},
     "output_type": "execute_result"
    }
   ],
   "source": [
    "df.loc[0]"
   ]
  },
  {
   "cell_type": "code",
   "execution_count": 5,
   "metadata": {},
   "outputs": [],
   "source": [
    "df.to_csv ('../data/processed/clean/hyperion.csv', index = False, header=True )"
   ]
  },
  {
   "cell_type": "markdown",
   "metadata": {},
   "source": [
    "## Splitting dataset to evaluate the entire pipeline"
   ]
  },
  {
   "cell_type": "code",
   "execution_count": 6,
   "metadata": {},
   "outputs": [],
   "source": [
    "df = pd.read_csv('../data/processed/clean/hyperion.csv')"
   ]
  },
  {
   "cell_type": "code",
   "execution_count": 7,
   "metadata": {},
   "outputs": [
    {
     "name": "stdout",
     "output_type": "stream",
     "text": [
      "FULL Dataset: (15332, 3)\n",
      "TRAIN Dataset: (12266, 3)\n",
      "TEST Dataset: (3066, 3)\n"
     ]
    }
   ],
   "source": [
    "dataset = []\n",
    "\n",
    "for row in df.itertuples():\n",
    "    text = row.Testo\n",
    "    \n",
    "    if pd.isna(text):\n",
    "        sample['Stralci'].append(row.Stralcio)\n",
    "        sample['Repertori'].append(row.Repertorio)\n",
    "\n",
    "    else:\n",
    "        sample = {}\n",
    "        sample['Testo'] = text\n",
    "        sample['Stralci'] = [row.Stralcio]\n",
    "        sample['Repertori'] = [row.Repertorio]\n",
    "        dataset.append(sample)\n",
    "\n",
    "IE_dict = {\n",
    "                'Testo': [sample['Testo'] for sample in dataset],\n",
    "                'Stralci': [sample['Stralci'] for sample in dataset],\n",
    "                'Repertori': [sample['Repertori'] for sample in dataset]\n",
    "\n",
    "            }\n",
    "df = pd.DataFrame(IE_dict)\n",
    "\n",
    "train_size = 0.8\n",
    "train_df = df.sample(frac=train_size, random_state=200)\n",
    "test_df = df.drop(train_df.index).reset_index(drop=True)\n",
    "train_df = train_df.reset_index(drop=True)\n",
    "\n",
    "print(\"FULL Dataset: {}\".format(df.shape))\n",
    "print(\"TRAIN Dataset: {}\".format(train_df.shape))\n",
    "print(\"TEST Dataset: {}\".format(test_df.shape))\n",
    "\n",
    "train_df.to_csv ('../data/processed/pipeline/train/ie_hyperion.csv', index = False, header=True)\n",
    "test_df.to_csv ('../data/processed/pipeline/test/ie_hyperion.csv', index = False, header=True)"
   ]
  },
  {
   "cell_type": "code",
   "execution_count": 26,
   "metadata": {},
   "outputs": [],
   "source": [
    "dataset = []\n",
    "\n",
    "for row in train_df.itertuples():\n",
    "    sample = {}\n",
    "    sample['Testo'] = row.Testo\n",
    "    sample['Stralcio'] = row.Stralci[0]\n",
    "    sample['Repertorio'] = row.Repertori[0]\n",
    "    dataset.append(sample)\n",
    "\n",
    "    for i in range(1,len(row.Stralci)):\n",
    "        sample = {}\n",
    "        sample['Testo'] = ''\n",
    "        sample['Stralcio'] = row.Stralci[i]\n",
    "        sample['Repertorio'] = row.Repertori[i]\n",
    "        dataset.append(sample)\n",
    "\n",
    "IE_dict = {\n",
    "                'Testo': [sample['Testo'] for sample in dataset],\n",
    "                'Stralcio': [sample['Stralcio'] for sample in dataset],\n",
    "                'Repertorio': [sample['Repertorio'] for sample in dataset]\n",
    "\n",
    "            }\n",
    "df = pd.DataFrame(IE_dict)\n",
    "\n",
    "df.to_csv ('../data/processed/pipeline/train/hyperion.csv', index = False, header=True)\n",
    "\n",
    "\n"
   ]
  },
  {
   "cell_type": "code",
   "execution_count": 31,
   "metadata": {},
   "outputs": [],
   "source": [
    "dataset = []\n",
    "\n",
    "for row in test_df.itertuples():\n",
    "    sample = {}\n",
    "    sample['Testo'] = row.Testo\n",
    "    sample['Stralcio'] = row.Stralci[0]\n",
    "    sample['Repertorio'] = row.Repertori[0]\n",
    "    dataset.append(sample)\n",
    "\n",
    "    for i in range(1,len(row.Stralci)):\n",
    "        sample = {}\n",
    "        sample['Testo'] = ''\n",
    "        sample['Stralcio'] = row.Stralci[i]\n",
    "        sample['Repertorio'] = row.Repertori[i]\n",
    "        dataset.append(sample)\n",
    "\n",
    "IE_dict = {\n",
    "                'Testo': [sample['Testo'] for sample in dataset],\n",
    "                'Stralcio': [sample['Stralcio'] for sample in dataset],\n",
    "                'Repertorio': [sample['Repertorio'] for sample in dataset]\n",
    "\n",
    "            }\n",
    "df = pd.DataFrame(IE_dict)\n",
    "\n",
    "df.to_csv ('../data/processed/pipeline/test/hyperion.csv', index = False, header=True)"
   ]
  },
  {
   "cell_type": "markdown",
   "metadata": {},
   "source": [
    "## Splitting balanced dataset for training repertoires classifier"
   ]
  },
  {
   "cell_type": "code",
   "execution_count": 32,
   "metadata": {},
   "outputs": [],
   "source": [
    "df = pd.read_csv('../data/processed/pipeline/train/hyperion.csv', na_filter=False)"
   ]
  },
  {
   "cell_type": "code",
   "execution_count": 33,
   "metadata": {},
   "outputs": [
    {
     "data": {
      "text/plain": [
       "Repertorio\n",
       "anticipazione                 38\n",
       "causa                        377\n",
       "commento                    3496\n",
       "conferma                     502\n",
       "considerazione               238\n",
       "contrapposizione            1141\n",
       "deresponsabilizzazione       521\n",
       "descrizione                 3900\n",
       "dichiarazione di intenti     507\n",
       "generalizzazione             841\n",
       "giudizio                    2191\n",
       "giustificazione              360\n",
       "implicazione                 558\n",
       "non risposta                 916\n",
       "opinione                    1035\n",
       "possibilità                  487\n",
       "prescrizione                1540\n",
       "previsione                   929\n",
       "proposta                     216\n",
       "ridimensionamento            856\n",
       "sancire                     4488\n",
       "specificazione              1094\n",
       "valutazione                 1678\n",
       "Name: Repertorio, dtype: int64"
      ]
     },
     "execution_count": 33,
     "metadata": {},
     "output_type": "execute_result"
    }
   ],
   "source": [
    "df.groupby('Repertorio')['Repertorio'].count()"
   ]
  },
  {
   "cell_type": "markdown",
   "metadata": {},
   "source": [
    "# Split"
   ]
  },
  {
   "cell_type": "code",
   "execution_count": 35,
   "metadata": {},
   "outputs": [],
   "source": [
    "# split\n",
    "test_set_perc = 0.2\n",
    "\n",
    "gb = df.groupby('Repertorio')\n",
    "train_list = []\n",
    "test_list = []\n",
    "\n",
    "for x in gb.groups:\n",
    "    class_df = gb.get_group(x)\n",
    "\n",
    "    # Test set creation\n",
    "    test = class_df.sample(frac=test_set_perc, random_state=1464)\n",
    "    train = pd.concat([class_df,test]).drop_duplicates(keep=False)\n",
    "\n",
    "    train_list.append(train)\n",
    "    test_list.append(test)\n",
    "\n",
    "train_df = pd.concat(train_list)\n",
    "test_df = pd.concat(test_list)\n",
    "\n",
    "train_df.to_csv ('../data/processed/splitted/hyperion_train.csv', index = False, header=True)\n",
    "test_df.to_csv ('../data/processed/splitted/hyperion_test.csv', index = False, header=True)  "
   ]
  },
  {
   "cell_type": "code",
   "execution_count": 36,
   "metadata": {},
   "outputs": [
    {
     "data": {
      "text/plain": [
       "Repertorio\n",
       "anticipazione                 30\n",
       "causa                        300\n",
       "commento                    2778\n",
       "conferma                     401\n",
       "considerazione               190\n",
       "contrapposizione             908\n",
       "deresponsabilizzazione       416\n",
       "descrizione                 3108\n",
       "dichiarazione di intenti     402\n",
       "generalizzazione             665\n",
       "giudizio                    1749\n",
       "giustificazione              286\n",
       "implicazione                 445\n",
       "non risposta                 733\n",
       "opinione                     823\n",
       "possibilità                  390\n",
       "prescrizione                1230\n",
       "previsione                   736\n",
       "proposta                     173\n",
       "ridimensionamento            669\n",
       "sancire                     3570\n",
       "specificazione               874\n",
       "valutazione                 1342\n",
       "Name: Repertorio, dtype: int64"
      ]
     },
     "execution_count": 36,
     "metadata": {},
     "output_type": "execute_result"
    }
   ],
   "source": [
    "train_df.groupby('Repertorio')['Repertorio'].count()"
   ]
  }
 ],
 "metadata": {
  "interpreter": {
   "hash": "925faa4ca74e07e17e8807425b2222c7f6b32ec00bddad3c89cd83a7cae0c688"
  },
  "kernelspec": {
   "display_name": "default:Python",
   "language": "python",
   "name": "python3"
  },
  "language_info": {
   "codemirror_mode": {
    "name": "ipython",
    "version": 3
   },
   "file_extension": ".py",
   "mimetype": "text/x-python",
   "name": "python",
   "nbconvert_exporter": "python",
   "pygments_lexer": "ipython3",
   "version": "3.9.7"
  }
 },
 "nbformat": 4,
 "nbformat_minor": 4
}
