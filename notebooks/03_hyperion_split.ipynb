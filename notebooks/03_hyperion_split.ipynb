{
 "cells": [
  {
   "cell_type": "code",
   "execution_count": 10,
   "metadata": {},
   "outputs": [],
   "source": [
    "import pandas as pd\n",
    "import numpy as np\n",
    "import math"
   ]
  },
  {
   "cell_type": "code",
   "execution_count": 12,
   "metadata": {},
   "outputs": [],
   "source": [
    "def clean_text(df):\n",
    "    for i, t in enumerate(df['Testo']):\n",
    "        if len(t) < 4:\n",
    "            df['Testo'][i] = ''\n",
    "    return df\n",
    "\n",
    "def fill_null_features(df):\n",
    "    for c in ['Domanda','Testo']:\n",
    "        for i in range(0,len(df.index)):  \n",
    "            if not df[c][i]:\n",
    "                j=i\n",
    "                while j>0: \n",
    "                    j-=1\n",
    "                    if df[c][j]:\n",
    "                        df[c][i] = df[c][j]\n",
    "                        break\n",
    "    return df\n",
    "\n",
    "# Se lo stralcio è vuoto, prendo tutto il testo come stralcio. Non usata su Hyperion\n",
    "def copy_text(df):\n",
    "    for i in range(0,len(df.index)):  \n",
    "            if not df['Stralcio'][i]:\n",
    "                df['Stralcio'][i] = df['Testo'][i]\n",
    "    return df\n",
    "\n",
    "def add_context(df):\n",
    "    context_list = []\n",
    "    for i, span in enumerate(df['Testo']):\n",
    "        \n",
    "        # first row\n",
    "        if i == 0:\n",
    "            context =span + ' ' + df['Stralcio'][i+1]\n",
    "        #last row\n",
    "        elif i == len(df.index)-1:\n",
    "            context = df['Stralcio'][i-1] + ' ' + span\n",
    "        \n",
    "        #text with only 1 span\n",
    "        elif df['Testo'][i] and df['Testo'][i+1]:\n",
    "            context = span\n",
    "        #first span\n",
    "        elif df['Testo'][i]:\n",
    "            context = span + ' ' + df['Stralcio'][i+1]\n",
    "        #last span\n",
    "        elif df['Testo'][i+1]:\n",
    "            context = df['Stralcio'][i-1] + ' ' + span\n",
    "        \n",
    "        else:\n",
    "            context = df['Stralcio'][i-1] + ' ' + span + ' ' + df['Stralcio'][i+1]\n",
    "        context_list.append(context)\n",
    "    df['Contesto']= context_list\n",
    "    print(len(context_list))\n",
    "    return df\n",
    "\n",
    "def uniform_labels(df):\n",
    "    df['Repertorio'].replace('implicazioni','implicazione', inplace=True)\n",
    "    df['Repertorio'].replace('previsioni','previsione', inplace=True)\n",
    "\n"
   ]
  },
  {
   "cell_type": "code",
   "execution_count": 13,
   "metadata": {},
   "outputs": [
    {
     "name": "stdout",
     "output_type": "stream",
     "text": [
      "35474\n",
      "Numero stralci: 35474\n",
      "Numero stralci dopo eliminazione: 35148\n"
     ]
    }
   ],
   "source": [
    "#Hyperion dataset\n",
    "df = pd.read_csv('../data/Original_csv/Hyperion.csv', na_filter=False)\n",
    "df = clean_text(df)\n",
    "df = add_context(df)\n",
    "df['Repertorio'] = df['Repertorio'].str.lower()\n",
    "uniform_labels(df)\n",
    "\n",
    "\n",
    "print('Numero stralci: ' + str(len(df.index)))\n",
    "filter = df[\"Repertorio\"] != \"\"\n",
    "df = df[filter]\n",
    "#df = df.applymap(str.lower)\n",
    "print('Numero stralci dopo eliminazione: ' + str(len(df.index)))\n"
   ]
  },
  {
   "cell_type": "code",
   "execution_count": 9,
   "metadata": {},
   "outputs": [
    {
     "data": {
      "text/plain": [
       "Domanda       A cosa serve questo testo per il perseguimento...\n",
       "Testo         Dunque vediamo se ho capito: Conte le canta a ...\n",
       "Stralcio                           Dunque vediamo se ho capito:\n",
       "Repertorio                             dichiarazione di intenti\n",
       "Contesto      Dunque vediamo se ho capito: Conte le canta a ...\n",
       "Name: 0, dtype: object"
      ]
     },
     "execution_count": 9,
     "metadata": {},
     "output_type": "execute_result"
    }
   ],
   "source": [
    "df.loc[0]"
   ]
  },
  {
   "cell_type": "code",
   "execution_count": 14,
   "metadata": {},
   "outputs": [],
   "source": [
    "df.to_csv ('../data/Original_csv/Hyperion.csv', index = False, header=True )"
   ]
  },
  {
   "cell_type": "code",
   "execution_count": 16,
   "metadata": {},
   "outputs": [
    {
     "data": {
      "text/plain": [
       "Repertorio\n",
       "anticipazione                 53\n",
       "causa                        473\n",
       "commento                    4403\n",
       "conferma                     639\n",
       "considerazione               312\n",
       "contrapposizione            1413\n",
       "deresponsabilizzazione       638\n",
       "descrizione                 4882\n",
       "dichiarazione di intenti     643\n",
       "generalizzazione            1066\n",
       "giudizio                    2764\n",
       "giustificazione              440\n",
       "implicazione                 706\n",
       "non risposta                1163\n",
       "opinione                    1343\n",
       "possibilità                  616\n",
       "prescrizione                1920\n",
       "previsione                  1170\n",
       "proposta                     256\n",
       "ridimensionamento           1102\n",
       "sancire                     5627\n",
       "specificazione              1396\n",
       "valutazione                 2123\n",
       "Name: Repertorio, dtype: int64"
      ]
     },
     "execution_count": 16,
     "metadata": {},
     "output_type": "execute_result"
    }
   ],
   "source": [
    "df.groupby('Repertorio')['Repertorio'].count()"
   ]
  },
  {
   "cell_type": "markdown",
   "metadata": {},
   "source": [
    "# Split"
   ]
  },
  {
   "cell_type": "code",
   "execution_count": 15,
   "metadata": {},
   "outputs": [],
   "source": [
    "# split\n",
    "test_set_perc = 0.2\n",
    "\n",
    "gb = df.groupby('Repertorio')\n",
    "train_list = []\n",
    "test_list = []\n",
    "\n",
    "for x in gb.groups:\n",
    "    class_df = gb.get_group(x)\n",
    "\n",
    "    # Test set creation\n",
    "    test = class_df.sample(frac=test_set_perc, random_state=1464)\n",
    "    train = pd.concat([class_df,test]).drop_duplicates(keep=False)\n",
    "\n",
    "    train_list.append(train)\n",
    "    test_list.append(test)\n",
    "\n",
    "train_df = pd.concat(train_list)\n",
    "test_df = pd.concat(test_list)\n",
    "\n",
    "\n",
    "train_df.to_csv ('../data/Splitted_full/Hyperion_train.csv', index = False, header=True )\n",
    "test_df.to_csv ('../data/Splitted_full/Hyperion_test.csv', index = False, header=True )\n",
    "\n",
    "\n",
    "\n",
    "    "
   ]
  },
  {
   "cell_type": "code",
   "execution_count": 17,
   "metadata": {},
   "outputs": [
    {
     "data": {
      "text/plain": [
       "Repertorio\n",
       "anticipazione                 42\n",
       "causa                        378\n",
       "commento                    3506\n",
       "conferma                     511\n",
       "considerazione               250\n",
       "contrapposizione            1130\n",
       "deresponsabilizzazione       506\n",
       "descrizione                 3893\n",
       "dichiarazione di intenti     513\n",
       "generalizzazione             851\n",
       "giudizio                    2207\n",
       "giustificazione              350\n",
       "implicazione                 564\n",
       "non risposta                 930\n",
       "opinione                    1074\n",
       "possibilità                  493\n",
       "prescrizione                1535\n",
       "previsione                   934\n",
       "proposta                     205\n",
       "ridimensionamento            879\n",
       "sancire                     4497\n",
       "specificazione              1117\n",
       "valutazione                 1698\n",
       "Name: Repertorio, dtype: int64"
      ]
     },
     "execution_count": 17,
     "metadata": {},
     "output_type": "execute_result"
    }
   ],
   "source": [
    "train_df.groupby('Repertorio')['Repertorio'].count()"
   ]
  }
 ],
 "metadata": {
  "interpreter": {
   "hash": "531bf1ddd0b9ee64f0e2ebd6527c520de4e2159f2ffcc26ba5e4b06431092b93"
  },
  "kernelspec": {
   "display_name": "default:Python",
   "language": "python",
   "name": "conda-env-default-py"
  },
  "language_info": {
   "codemirror_mode": {
    "name": "ipython",
    "version": 3
   },
   "file_extension": ".py",
   "mimetype": "text/x-python",
   "name": "python",
   "nbconvert_exporter": "python",
   "pygments_lexer": "ipython3",
   "version": "3.9.7"
  }
 },
 "nbformat": 4,
 "nbformat_minor": 4
}
