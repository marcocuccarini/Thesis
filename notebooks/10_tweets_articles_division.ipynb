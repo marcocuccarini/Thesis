{
 "cells": [
  {
   "cell_type": "code",
   "execution_count": 1,
   "metadata": {},
   "outputs": [],
   "source": [
    "import pandas as pd\n",
    "df = pd.read_csv('../data/processed/union/ie_hyperion.csv')"
   ]
  },
  {
   "cell_type": "code",
   "execution_count": 33,
   "metadata": {},
   "outputs": [],
   "source": [
    "tweets_df = pd.DataFrame()\n",
    "\n",
    "for row in df.itertuples():\n",
    "    tweet_flag = False\n",
    "    text = row.Testo\n",
    "    if len(text) <= 280:\n",
    "        tweet_flag = True\n",
    "    #if text.find('#'):\n",
    "    #    tweet_flag = True\n",
    "    if tweet_flag:\n",
    "        tweets_df = pd.concat([tweets_df,pd.Series(row)], ignore_index=True)\n",
    "    \n",
    "        \n",
    "    \n"
   ]
  },
  {
   "cell_type": "code",
   "execution_count": 34,
   "metadata": {},
   "outputs": [
    {
     "name": "stdout",
     "output_type": "stream",
     "text": [
      "                                                       0\n",
      "0                                                      0\n",
      "1      Dunque vediamo se ho capito: Conte le canta a ...\n",
      "2      ['Dunque vediamo se ho capito:', 'Conte le can...\n",
      "3      ['dichiarazione di intenti', 'sancire', 'giust...\n",
      "4                                                      1\n",
      "...                                                  ...\n",
      "43439                                       ['commento']\n",
      "43440                                              15331\n",
      "43441  Si parla di libertà. Ma dove é la tutela di un...\n",
      "43442  ['Si parla di libertà. Ma dove é la tutela di ...\n",
      "43443    ['generalizzazione', 'sancire', 'prescrizione']\n",
      "\n",
      "[43444 rows x 1 columns]\n"
     ]
    }
   ],
   "source": [
    "print(tweets_df)"
   ]
  }
 ],
 "metadata": {
  "interpreter": {
   "hash": "925faa4ca74e07e17e8807425b2222c7f6b32ec00bddad3c89cd83a7cae0c688"
  },
  "kernelspec": {
   "display_name": "Python 3.9.7 ('base')",
   "language": "python",
   "name": "python3"
  },
  "language_info": {
   "codemirror_mode": {
    "name": "ipython",
    "version": 3
   },
   "file_extension": ".py",
   "mimetype": "text/x-python",
   "name": "python",
   "nbconvert_exporter": "python",
   "pygments_lexer": "ipython3",
   "version": "3.9.7"
  },
  "orig_nbformat": 4
 },
 "nbformat": 4,
 "nbformat_minor": 2
}
