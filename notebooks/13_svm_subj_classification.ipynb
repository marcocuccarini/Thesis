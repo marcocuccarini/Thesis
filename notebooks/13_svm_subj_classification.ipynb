{
 "cells": [
  {
   "cell_type": "code",
   "execution_count": 2,
   "metadata": {},
   "outputs": [],
   "source": [
    "import sys\n",
    "import os \n",
    "sys.path.append(os.path.dirname(sys.path[0]) + '/src')\n",
    "from ast import literal_eval\n",
    "import pandas as pd\n",
    "\n",
    "train_df = pd.read_csv('../data/processed/sentipolc/subj_rep_train.csv', converters={'rep': literal_eval})\n",
    "test_df = pd.read_csv('../data/processed/sentipolc/subj_rep_test.csv', converters={'rep': literal_eval})"
   ]
  },
  {
   "cell_type": "code",
   "execution_count": 40,
   "metadata": {},
   "outputs": [
    {
     "data": {
      "text/html": [
       "<div>\n",
       "<style scoped>\n",
       "    .dataframe tbody tr th:only-of-type {\n",
       "        vertical-align: middle;\n",
       "    }\n",
       "\n",
       "    .dataframe tbody tr th {\n",
       "        vertical-align: top;\n",
       "    }\n",
       "\n",
       "    .dataframe thead th {\n",
       "        text-align: right;\n",
       "    }\n",
       "</style>\n",
       "<table border=\"1\" class=\"dataframe\">\n",
       "  <thead>\n",
       "    <tr style=\"text-align: right;\">\n",
       "      <th></th>\n",
       "      <th>idtwitter</th>\n",
       "      <th>subj</th>\n",
       "      <th>opos</th>\n",
       "      <th>oneg</th>\n",
       "      <th>iro</th>\n",
       "      <th>lpos</th>\n",
       "      <th>lneg</th>\n",
       "      <th>top</th>\n",
       "      <th>text</th>\n",
       "      <th>spans</th>\n",
       "      <th>rep</th>\n",
       "    </tr>\n",
       "  </thead>\n",
       "  <tbody>\n",
       "    <tr>\n",
       "      <th>0</th>\n",
       "      <td>507074506880712705</td>\n",
       "      <td>0</td>\n",
       "      <td>0</td>\n",
       "      <td>0</td>\n",
       "      <td>0</td>\n",
       "      <td>0</td>\n",
       "      <td>0</td>\n",
       "      <td>2</td>\n",
       "      <td>Tra 5 minuti presentazione piano scuola del go...</td>\n",
       "      <td>['Tra 5 minuti presentazione piano scuola del ...</td>\n",
       "      <td>[non risposta]</td>\n",
       "    </tr>\n",
       "    <tr>\n",
       "      <th>1</th>\n",
       "      <td>507075789456961536</td>\n",
       "      <td>1</td>\n",
       "      <td>1</td>\n",
       "      <td>0</td>\n",
       "      <td>0</td>\n",
       "      <td>1</td>\n",
       "      <td>0</td>\n",
       "      <td>2</td>\n",
       "      <td>\"@matteorenzi: Alle 10 appuntamento su http://...</td>\n",
       "      <td>['\"@matteorenzi: Alle 10 appuntamento su http:...</td>\n",
       "      <td>[non risposta]</td>\n",
       "    </tr>\n",
       "    <tr>\n",
       "      <th>2</th>\n",
       "      <td>507077511902425088</td>\n",
       "      <td>1</td>\n",
       "      <td>0</td>\n",
       "      <td>1</td>\n",
       "      <td>0</td>\n",
       "      <td>0</td>\n",
       "      <td>1</td>\n",
       "      <td>2</td>\n",
       "      <td>#labuonascuola gli #evangelisti #digitali non ...</td>\n",
       "      <td>['#labuonascuola gli #evangelisti #digitali no...</td>\n",
       "      <td>[prescrizione, ridimensionamento]</td>\n",
       "    </tr>\n",
       "    <tr>\n",
       "      <th>3</th>\n",
       "      <td>507079183315787777</td>\n",
       "      <td>0</td>\n",
       "      <td>0</td>\n",
       "      <td>0</td>\n",
       "      <td>0</td>\n",
       "      <td>0</td>\n",
       "      <td>0</td>\n",
       "      <td>2</td>\n",
       "      <td>Riforma scuola Tutto il discorso di  Renzi su ...</td>\n",
       "      <td>['Riforma scuola Tutto il discorso di  Renzi s...</td>\n",
       "      <td>[non risposta]</td>\n",
       "    </tr>\n",
       "    <tr>\n",
       "      <th>4</th>\n",
       "      <td>507080190225563648</td>\n",
       "      <td>1</td>\n",
       "      <td>0</td>\n",
       "      <td>0</td>\n",
       "      <td>0</td>\n",
       "      <td>0</td>\n",
       "      <td>0</td>\n",
       "      <td>2</td>\n",
       "      <td>.@matteorenzi @MiurSocial #labuonascuola basta...</td>\n",
       "      <td>['.@matteorenzi @MiurSocial #labuonascuola bas...</td>\n",
       "      <td>[non risposta]</td>\n",
       "    </tr>\n",
       "    <tr>\n",
       "      <th>...</th>\n",
       "      <td>...</td>\n",
       "      <td>...</td>\n",
       "      <td>...</td>\n",
       "      <td>...</td>\n",
       "      <td>...</td>\n",
       "      <td>...</td>\n",
       "      <td>...</td>\n",
       "      <td>...</td>\n",
       "      <td>...</td>\n",
       "      <td>...</td>\n",
       "      <td>...</td>\n",
       "    </tr>\n",
       "    <tr>\n",
       "      <th>1995</th>\n",
       "      <td>645372190645481472</td>\n",
       "      <td>0</td>\n",
       "      <td>0</td>\n",
       "      <td>0</td>\n",
       "      <td>0</td>\n",
       "      <td>0</td>\n",
       "      <td>0</td>\n",
       "      <td>0</td>\n",
       "      <td>Anche prodotti alimentari tipici pugliesi in v...</td>\n",
       "      <td>['Anche prodotti alimentari tipici pugliesi in...</td>\n",
       "      <td>[descrizione]</td>\n",
       "    </tr>\n",
       "    <tr>\n",
       "      <th>1996</th>\n",
       "      <td>645628412225265664</td>\n",
       "      <td>0</td>\n",
       "      <td>0</td>\n",
       "      <td>0</td>\n",
       "      <td>0</td>\n",
       "      <td>0</td>\n",
       "      <td>0</td>\n",
       "      <td>0</td>\n",
       "      <td>intensità di vita  https://t.co/jv4aARxzhz</td>\n",
       "      <td>['intensità di vita  https://t.co/jv4aARxzhz']</td>\n",
       "      <td>[ridimensionamento]</td>\n",
       "    </tr>\n",
       "    <tr>\n",
       "      <th>1997</th>\n",
       "      <td>645919232367161344</td>\n",
       "      <td>1</td>\n",
       "      <td>1</td>\n",
       "      <td>1</td>\n",
       "      <td>0</td>\n",
       "      <td>1</td>\n",
       "      <td>1</td>\n",
       "      <td>0</td>\n",
       "      <td>Oggi tutti che iniziano l'università e io sul ...</td>\n",
       "      <td>[\"Oggi tutti che iniziano l'università e io su...</td>\n",
       "      <td>[descrizione]</td>\n",
       "    </tr>\n",
       "    <tr>\n",
       "      <th>1998</th>\n",
       "      <td>648567080107790336</td>\n",
       "      <td>1</td>\n",
       "      <td>0</td>\n",
       "      <td>1</td>\n",
       "      <td>0</td>\n",
       "      <td>0</td>\n",
       "      <td>1</td>\n",
       "      <td>0</td>\n",
       "      <td>@GliIntoccabili @nonleggerlo Ma Ferrero? il co...</td>\n",
       "      <td>['@GliIntoccabili @nonleggerlo Ma Ferrero? il ...</td>\n",
       "      <td>[commento]</td>\n",
       "    </tr>\n",
       "    <tr>\n",
       "      <th>1999</th>\n",
       "      <td>648595040999239680</td>\n",
       "      <td>1</td>\n",
       "      <td>1</td>\n",
       "      <td>0</td>\n",
       "      <td>0</td>\n",
       "      <td>1</td>\n",
       "      <td>0</td>\n",
       "      <td>0</td>\n",
       "      <td>Non vedi l'ora che venga qui, almeno lo sentir...</td>\n",
       "      <td>[\"Non vedi l'ora che venga qui, almeno lo sent...</td>\n",
       "      <td>[commento]</td>\n",
       "    </tr>\n",
       "  </tbody>\n",
       "</table>\n",
       "<p>2000 rows × 11 columns</p>\n",
       "</div>"
      ],
      "text/plain": [
       "               idtwitter  subj  opos  oneg  iro  lpos  lneg  top  \\\n",
       "0     507074506880712705     0     0     0    0     0     0    2   \n",
       "1     507075789456961536     1     1     0    0     1     0    2   \n",
       "2     507077511902425088     1     0     1    0     0     1    2   \n",
       "3     507079183315787777     0     0     0    0     0     0    2   \n",
       "4     507080190225563648     1     0     0    0     0     0    2   \n",
       "...                  ...   ...   ...   ...  ...   ...   ...  ...   \n",
       "1995  645372190645481472     0     0     0    0     0     0    0   \n",
       "1996  645628412225265664     0     0     0    0     0     0    0   \n",
       "1997  645919232367161344     1     1     1    0     1     1    0   \n",
       "1998  648567080107790336     1     0     1    0     0     1    0   \n",
       "1999  648595040999239680     1     1     0    0     1     0    0   \n",
       "\n",
       "                                                   text  \\\n",
       "0     Tra 5 minuti presentazione piano scuola del go...   \n",
       "1     \"@matteorenzi: Alle 10 appuntamento su http://...   \n",
       "2     #labuonascuola gli #evangelisti #digitali non ...   \n",
       "3     Riforma scuola Tutto il discorso di  Renzi su ...   \n",
       "4     .@matteorenzi @MiurSocial #labuonascuola basta...   \n",
       "...                                                 ...   \n",
       "1995  Anche prodotti alimentari tipici pugliesi in v...   \n",
       "1996         intensità di vita  https://t.co/jv4aARxzhz   \n",
       "1997  Oggi tutti che iniziano l'università e io sul ...   \n",
       "1998  @GliIntoccabili @nonleggerlo Ma Ferrero? il co...   \n",
       "1999  Non vedi l'ora che venga qui, almeno lo sentir...   \n",
       "\n",
       "                                                  spans  \\\n",
       "0     ['Tra 5 minuti presentazione piano scuola del ...   \n",
       "1     ['\"@matteorenzi: Alle 10 appuntamento su http:...   \n",
       "2     ['#labuonascuola gli #evangelisti #digitali no...   \n",
       "3     ['Riforma scuola Tutto il discorso di  Renzi s...   \n",
       "4     ['.@matteorenzi @MiurSocial #labuonascuola bas...   \n",
       "...                                                 ...   \n",
       "1995  ['Anche prodotti alimentari tipici pugliesi in...   \n",
       "1996     ['intensità di vita  https://t.co/jv4aARxzhz']   \n",
       "1997  [\"Oggi tutti che iniziano l'università e io su...   \n",
       "1998  ['@GliIntoccabili @nonleggerlo Ma Ferrero? il ...   \n",
       "1999  [\"Non vedi l'ora che venga qui, almeno lo sent...   \n",
       "\n",
       "                                    rep  \n",
       "0                        [non risposta]  \n",
       "1                        [non risposta]  \n",
       "2     [prescrizione, ridimensionamento]  \n",
       "3                        [non risposta]  \n",
       "4                        [non risposta]  \n",
       "...                                 ...  \n",
       "1995                      [descrizione]  \n",
       "1996                [ridimensionamento]  \n",
       "1997                      [descrizione]  \n",
       "1998                         [commento]  \n",
       "1999                         [commento]  \n",
       "\n",
       "[2000 rows x 11 columns]"
      ]
     },
     "execution_count": 40,
     "metadata": {},
     "output_type": "execute_result"
    }
   ],
   "source": [
    "test_df"
   ]
  },
  {
   "cell_type": "code",
   "execution_count": 6,
   "metadata": {},
   "outputs": [
    {
     "data": {
      "text/plain": [
       "6542"
      ]
     },
     "execution_count": 6,
     "metadata": {},
     "output_type": "execute_result"
    }
   ],
   "source": [
    "len(train_df.loc[train_df['iro'] == 0])"
   ]
  },
  {
   "cell_type": "code",
   "execution_count": 41,
   "metadata": {},
   "outputs": [
    {
     "name": "stdout",
     "output_type": "stream",
     "text": [
      "1305\n",
      "695\n"
     ]
    }
   ],
   "source": [
    "n_subj = test_df['subj'].loc[test_df['subj'] == 1].count()\n",
    "print(n_subj)\n",
    "\n",
    "n_obj = test_df['subj'].loc[test_df['subj'] == 0].count()\n",
    "print(n_obj)"
   ]
  },
  {
   "cell_type": "code",
   "execution_count": 42,
   "metadata": {},
   "outputs": [],
   "source": [
    "from datasets.hyperion_dataset import encode_str_label, LABELS\n",
    "import numpy as np\n",
    "\n",
    "def frequency_vec(reps:list) -> list:\n",
    "    freq = np.zeros(len(LABELS))\n",
    "    for r in reps:\n",
    "        freq[encode_str_label(r)] += 1\n",
    "    return freq\n",
    "\n",
    "def weigths_vec(reps:list) -> list:\n",
    "    freq = np.zeros(len(LABELS))\n",
    "    for r in reps:\n",
    "        freq[encode_str_label(r)] += 1\n",
    "        \n",
    "    return np.divide(freq, len(reps))\n",
    "\n",
    "\n"
   ]
  },
  {
   "cell_type": "code",
   "execution_count": 35,
   "metadata": {},
   "outputs": [],
   "source": [
    "X_train = [weigths_vec(reps) for reps in train_df['rep']]\n",
    "y_train = train_df['subj'].to_list()\n",
    "\n",
    "X_test = [weigths_vec(reps) for reps in test_df['rep']]\n",
    "y_test = test_df['subj'].to_list()"
   ]
  },
  {
   "cell_type": "code",
   "execution_count": 49,
   "metadata": {},
   "outputs": [
    {
     "name": "stdout",
     "output_type": "stream",
     "text": [
      "Precision subj: 0.862\n",
      "Precision obj: 0.465\n",
      "Recall subj: 0.475\n",
      "Recall obj: 0.858\n",
      "F1 subj: 0.613\n",
      "F1 obj: 0.603\n",
      "F1 mean: 0.608\n",
      "Accuracy: 0.608\n"
     ]
    },
    {
     "data": {
      "image/png": "[encoded data removed]",
      "text/plain": [
       "<Figure size 432x288 with 2 Axes>"
      ]
     },
     "metadata": {
      "needs_background": "light"
     },
     "output_type": "display_data"
    }
   ],
   "source": [
    "from sklearn import svm\n",
    "from sklearn.metrics import f1_score, precision_score, recall_score, accuracy_score, confusion_matrix, ConfusionMatrixDisplay\n",
    "from matplotlib import pyplot as plt\n",
    "\n",
    "classes_dict = {\n",
    "    0: 0.3,\n",
    "    1: 0.7\n",
    "}\n",
    "clf = svm.SVC(kernel='poly', C = 1, class_weight='balanced')\n",
    "clf.fit(X_train, y_train)\n",
    "\n",
    "#Predict the response for test dataset\n",
    "y_pred = clf.predict(X_test)\n",
    "\n",
    "\n",
    "pr_subj = precision_score(y_test, y_pred, pos_label=1)\n",
    "pr_obj = precision_score(y_test, y_pred, pos_label=0)\n",
    "\n",
    "rec_subj = recall_score(y_test, y_pred, pos_label=1)\n",
    "rec_obj = recall_score(y_test, y_pred, pos_label=0)\n",
    "\n",
    "f1_subj = f1_score(y_test, y_pred, pos_label=1)\n",
    "f1_obj = f1_score(y_test, y_pred, pos_label=0)\n",
    "\n",
    "acc = accuracy_score(y_test, y_pred,)\n",
    "\n",
    "print('Precision subj: {0:.3f}'.format(pr_subj))\n",
    "print('Precision obj: {0:.3f}'.format(pr_obj))\n",
    "print('Recall subj: {0:.3f}'.format(rec_subj))\n",
    "print('Recall obj: {0:.3f}'.format(rec_obj))\n",
    "print('F1 subj: {0:.3f}'.format(f1_subj))\n",
    "print('F1 obj: {0:.3f}'.format(f1_obj))\n",
    "print('F1 mean: {0:.3f}'.format((f1_obj+f1_subj)/2))\n",
    "print('Accuracy: {0:.3f}'.format(acc))\n",
    "\n",
    "cm = confusion_matrix(y_test, y_pred, labels=clf.classes_, normalize='true')\n",
    "disp = ConfusionMatrixDisplay(confusion_matrix=cm,\n",
    "                                   display_labels=clf.classes_)\n",
    "disp.plot()\n",
    "plt.show()\n",
    "\n"
   ]
  },
  {
   "cell_type": "markdown",
   "metadata": {},
   "source": [
    "## Decision tree"
   ]
  },
  {
   "cell_type": "code",
   "execution_count": 50,
   "metadata": {},
   "outputs": [
    {
     "name": "stdout",
     "output_type": "stream",
     "text": [
      "Precision subj: 0.896\n",
      "Precision obj: 0.455\n",
      "Recall subj: 0.421\n",
      "Recall obj: 0.908\n",
      "F1 subj: 0.573\n",
      "F1 obj: 0.606\n",
      "F1 mean: 0.590\n",
      "Accuracy: 0.591\n"
     ]
    },
    {
     "data": {
      "image/png": "[encoded data removed]",
      "text/plain": [
       "<Figure size 432x288 with 2 Axes>"
      ]
     },
     "metadata": {
      "needs_background": "light"
     },
     "output_type": "display_data"
    }
   ],
   "source": [
    "from sklearn.tree import DecisionTreeClassifier\n",
    "from sklearn import tree\n",
    "\n",
    "clf = DecisionTreeClassifier(criterion='gini', class_weight='balanced')\n",
    "clf.fit(X_train, y_train)\n",
    "y_pred = clf.predict(X_test)\n",
    "\n",
    "from sklearn.metrics import f1_score, precision_score, recall_score, accuracy_score, confusion_matrix, ConfusionMatrixDisplay\n",
    "from matplotlib import pyplot as plt\n",
    "\n",
    "pr_subj = precision_score(y_test, y_pred, pos_label=1)\n",
    "pr_obj = precision_score(y_test, y_pred, pos_label=0)\n",
    "\n",
    "rec_subj = recall_score(y_test, y_pred, pos_label=1)\n",
    "rec_obj = recall_score(y_test, y_pred, pos_label=0)\n",
    "\n",
    "f1_subj = f1_score(y_test, y_pred, pos_label=1)\n",
    "f1_obj = f1_score(y_test, y_pred, pos_label=0)\n",
    "\n",
    "acc = accuracy_score(y_test, y_pred)\n",
    "\n",
    "print('Precision subj: {0:.3f}'.format(pr_subj))\n",
    "print('Precision obj: {0:.3f}'.format(pr_obj))\n",
    "print('Recall subj: {0:.3f}'.format(rec_subj))\n",
    "print('Recall obj: {0:.3f}'.format(rec_obj))\n",
    "print('F1 subj: {0:.3f}'.format(f1_subj))\n",
    "print('F1 obj: {0:.3f}'.format(f1_obj))\n",
    "print('F1 mean: {0:.3f}'.format((f1_obj+f1_subj)/2))\n",
    "print('Accuracy: {0:.3f}'.format(acc))\n",
    "\n",
    "cm = confusion_matrix(y_test, y_pred, labels=clf.classes_, normalize='true')\n",
    "disp = ConfusionMatrixDisplay(confusion_matrix=cm,\n",
    "                                   display_labels=clf.classes_)\n",
    "disp.plot()\n",
    "plt.show()\n",
    "\n",
    "#tree.plot_tree(clf)\n",
    "#plt.show()\n",
    "#plt.savefig('out.pdf')"
   ]
  },
  {
   "cell_type": "markdown",
   "metadata": {},
   "source": [
    "## Random forest"
   ]
  },
  {
   "cell_type": "code",
   "execution_count": 51,
   "metadata": {},
   "outputs": [
    {
     "name": "stdout",
     "output_type": "stream",
     "text": [
      "Precision subj: 0.890\n",
      "Precision obj: 0.456\n",
      "Recall subj: 0.427\n",
      "Recall obj: 0.901\n",
      "F1 subj: 0.577\n",
      "F1 obj: 0.605\n",
      "F1 mean: 0.591\n",
      "Accuracy: 0.592\n"
     ]
    },
    {
     "data": {
      "image/png": "[encoded data removed]",
      "text/plain": [
       "<Figure size 432x288 with 2 Axes>"
      ]
     },
     "metadata": {
      "needs_background": "light"
     },
     "output_type": "display_data"
    }
   ],
   "source": [
    "from sklearn.ensemble import RandomForestClassifier\n",
    "\n",
    "clf = RandomForestClassifier(criterion='gini', class_weight='balanced_subsample')\n",
    "clf.fit(X_train, y_train)\n",
    "y_pred = clf.predict(X_test)\n",
    "\n",
    "from sklearn.metrics import f1_score, precision_score, recall_score, accuracy_score, confusion_matrix, ConfusionMatrixDisplay\n",
    "from matplotlib import pyplot as plt\n",
    "\n",
    "pr_subj = precision_score(y_test, y_pred, pos_label=1)\n",
    "pr_obj = precision_score(y_test, y_pred, pos_label=0)\n",
    "\n",
    "rec_subj = recall_score(y_test, y_pred, pos_label=1)\n",
    "rec_obj = recall_score(y_test, y_pred, pos_label=0)\n",
    "\n",
    "f1_subj = f1_score(y_test, y_pred, pos_label=1)\n",
    "f1_obj = f1_score(y_test, y_pred, pos_label=0)\n",
    "\n",
    "acc = accuracy_score(y_test, y_pred)\n",
    "\n",
    "print('Precision subj: {0:.3f}'.format(pr_subj))\n",
    "print('Precision obj: {0:.3f}'.format(pr_obj))\n",
    "print('Recall subj: {0:.3f}'.format(rec_subj))\n",
    "print('Recall obj: {0:.3f}'.format(rec_obj))\n",
    "print('F1 subj: {0:.3f}'.format(f1_subj))\n",
    "print('F1 obj: {0:.3f}'.format(f1_obj))\n",
    "print('F1 mean: {0:.3f}'.format((f1_obj+f1_subj)/2))\n",
    "print('Accuracy: {0:.3f}'.format(acc))\n",
    "\n",
    "cm = confusion_matrix(y_test, y_pred, labels=clf.classes_, normalize='true')\n",
    "disp = ConfusionMatrixDisplay(confusion_matrix=cm,\n",
    "                                   display_labels=clf.classes_)\n",
    "disp.plot()\n",
    "plt.show()"
   ]
  }
 ],
 "metadata": {
  "interpreter": {
   "hash": "925faa4ca74e07e17e8807425b2222c7f6b32ec00bddad3c89cd83a7cae0c688"
  },
  "kernelspec": {
   "display_name": "Python 3.9.7 ('base')",
   "language": "python",
   "name": "python3"
  },
  "language_info": {
   "codemirror_mode": {
    "name": "ipython",
    "version": 3
   },
   "file_extension": ".py",
   "mimetype": "text/x-python",
   "name": "python",
   "nbconvert_exporter": "python",
   "pygments_lexer": "ipython3",
   "version": "3.9.7"
  },
  "orig_nbformat": 4
 },
 "nbformat": 4,
 "nbformat_minor": 2
}
