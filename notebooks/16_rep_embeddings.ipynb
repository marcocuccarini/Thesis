{
 "cells": [
  {
   "cell_type": "markdown",
   "metadata": {},
   "source": [
    "# last layer embedding average"
   ]
  },
  {
   "cell_type": "code",
   "execution_count": 13,
   "metadata": {},
   "outputs": [],
   "source": [
    "import sys\n",
    "import os \n",
    "sys.path.append(os.path.dirname(sys.path[0]) + '/src')\n",
    "import pandas as pd\n",
    "from ast import literal_eval\n",
    "from models.bert_rep import BertRep\n",
    "\n",
    "train_df = pd.read_csv('../data/processed/sentipolc/subj_rep_train.csv', converters={'rep': literal_eval, 'spans': literal_eval})\n",
    "#train_df = train_df.head(1000)\n",
    "bert_rep = BertRep()\n",
    "train_df['hs'] = train_df['spans'].map(bert_rep.last_hidden_state_average).values.tolist()"
   ]
  },
  {
   "cell_type": "code",
   "execution_count": 14,
   "metadata": {},
   "outputs": [],
   "source": [
    "test_df = pd.read_csv('../data/processed/sentipolc/subj_rep_test.csv', converters={'rep': literal_eval, 'spans': literal_eval})\n",
    "#test_df = test_df.head(500)\n",
    "test_df['hs'] = test_df['spans'].map(bert_rep.last_hidden_state_average).values.tolist()"
   ]
  },
  {
   "cell_type": "code",
   "execution_count": 15,
   "metadata": {},
   "outputs": [],
   "source": [
    "X_train = train_df['hs'].to_list()\n",
    "y_train = train_df['iro'].to_list()\n",
    "\n",
    "X_test = test_df['hs'].to_list()\n",
    "y_test = test_df['iro'].to_list()\n"
   ]
  },
  {
   "cell_type": "code",
   "execution_count": 16,
   "metadata": {},
   "outputs": [
    {
     "name": "stdout",
     "output_type": "stream",
     "text": [
      "Fitting 5 folds for each of 150 candidates, totalling 750 fits\n",
      "[CV] END ...............C=0.1, degree=3, gamma=1, kernel=rbf; total time=  18.6s\n",
      "[CV] END ...............C=0.1, degree=3, gamma=1, kernel=rbf; total time=  18.4s\n",
      "[CV] END ...............C=0.1, degree=3, gamma=1, kernel=rbf; total time=  18.4s\n",
      "[CV] END ...............C=0.1, degree=3, gamma=1, kernel=rbf; total time=  18.4s\n",
      "[CV] END ...............C=0.1, degree=3, gamma=1, kernel=rbf; total time=  18.5s\n",
      "[CV] END ..............C=0.1, degree=3, gamma=1, kernel=poly; total time=   7.4s\n",
      "[CV] END ..............C=0.1, degree=3, gamma=1, kernel=poly; total time=   7.5s\n",
      "[CV] END ..............C=0.1, degree=3, gamma=1, kernel=poly; total time=   7.8s\n",
      "[CV] END ..............C=0.1, degree=3, gamma=1, kernel=poly; total time=   7.5s\n",
      "[CV] END ..............C=0.1, degree=3, gamma=1, kernel=poly; total time=   7.1s\n",
      "[CV] END .............C=0.1, degree=3, gamma=0.1, kernel=rbf; total time=  18.5s\n",
      "[CV] END .............C=0.1, degree=3, gamma=0.1, kernel=rbf; total time=  18.5s\n",
      "[CV] END .............C=0.1, degree=3, gamma=0.1, kernel=rbf; total time=  18.6s\n",
      "[CV] END .............C=0.1, degree=3, gamma=0.1, kernel=rbf; total time=  18.7s\n",
      "[CV] END .............C=0.1, degree=3, gamma=0.1, kernel=rbf; total time=  18.6s\n",
      "[CV] END ............C=0.1, degree=3, gamma=0.1, kernel=poly; total time=   7.4s\n",
      "[CV] END ............C=0.1, degree=3, gamma=0.1, kernel=poly; total time=   7.5s\n",
      "[CV] END ............C=0.1, degree=3, gamma=0.1, kernel=poly; total time=   7.8s\n",
      "[CV] END ............C=0.1, degree=3, gamma=0.1, kernel=poly; total time=   7.8s\n",
      "[CV] END ............C=0.1, degree=3, gamma=0.1, kernel=poly; total time=   7.4s\n",
      "[CV] END ............C=0.1, degree=3, gamma=0.01, kernel=rbf; total time=  15.9s\n"
     ]
    }
   ],
   "source": [
    "from sklearn import svm\n",
    "from sklearn.metrics import f1_score, precision_score, recall_score, accuracy_score, confusion_matrix, ConfusionMatrixDisplay\n",
    "from matplotlib import pyplot as plt\n",
    "from sklearn.model_selection import GridSearchCV\n",
    "from sklearn.metrics import make_scorer\n",
    "\n",
    "param_grid = {'C': [0.1, 1, 10, 100, 1000],\n",
    "              'gamma': [1, 0.1, 0.01, 0.001, 0.0001],\n",
    "              'degree': [3, 4, 5],\n",
    "              'kernel': ['rbf','poly']}\n",
    "\n",
    "\n",
    "grid = GridSearchCV(svm.SVC(class_weight = 'balanced'), param_grid, refit = True, verbose = 3, scoring=make_scorer(f1_score, average='macro'))\n",
    "grid.fit(X_train, y_train)\n",
    "\n",
    "# print best parameter after tuning\n",
    "print(grid.best_params_)\n",
    " \n",
    "# print how our model looks after hyper-parameter tuning\n",
    "print(grid.best_estimator_)\n",
    "\n",
    "y_pred = grid.predict(X_test)\n",
    "\n",
    "pr_iro = precision_score(y_test, y_pred, pos_label=1)\n",
    "pr_no_iro = precision_score(y_test, y_pred, pos_label=0)\n",
    "\n",
    "rec_iro = recall_score(y_test, y_pred, pos_label=1)\n",
    "rec_no_iro = recall_score(y_test, y_pred, pos_label=0)\n",
    "\n",
    "f1_iro = f1_score(y_test, y_pred, pos_label=1)\n",
    "f1_no_iro = f1_score(y_test, y_pred, pos_label=0)\n",
    "f1_mean = f1_score(y_test, y_pred, average='macro')\n",
    "\n",
    "acc = accuracy_score(y_test, y_pred,)\n",
    "\n",
    "print('Precision iro: {0:.3f}'.format(pr_iro))\n",
    "print('Precision no iro: {0:.3f}'.format(pr_no_iro))\n",
    "print('Recall iro: {0:.3f}'.format(rec_iro))\n",
    "print('Recall no_iro: {0:.3f}'.format(rec_no_iro))\n",
    "print('F1 iro: {0:.3f}'.format(f1_iro))\n",
    "print('F1 no_iro: {0:.3f}'.format(f1_no_iro))\n",
    "print('F1 mean: {0:.3f}'.format(f1_mean))\n",
    "print('Accuracy: {0:.3f}'.format(acc))\n",
    "\n",
    "cm = confusion_matrix(y_test, y_pred, labels=grid.classes_, normalize='true')\n",
    "disp = ConfusionMatrixDisplay(confusion_matrix=cm,\n",
    "                                   display_labels=grid.classes_)\n",
    "disp.plot()\n",
    "plt.show()"
   ]
  },
  {
   "cell_type": "markdown",
   "metadata": {},
   "source": [
    "## Subjectivity"
   ]
  },
  {
   "cell_type": "code",
   "execution_count": 20,
   "metadata": {},
   "outputs": [],
   "source": [
    "X_train = train_df['hs'].to_list()\n",
    "y_train = train_df['subj'].to_list()\n",
    "\n",
    "X_test = test_df['hs'].to_list()\n",
    "y_test = test_df['subj'].to_list()"
   ]
  },
  {
   "cell_type": "code",
   "execution_count": 23,
   "metadata": {},
   "outputs": [
    {
     "name": "stdout",
     "output_type": "stream",
     "text": [
      "Precision subj: 0.972\n",
      "Precision obj: 0.510\n",
      "Recall subj: 0.503\n",
      "Recall obj: 0.973\n",
      "F1 subj: 0.663\n",
      "F1 obj: 0.669\n",
      "F1 mean: 0.666\n",
      "Accuracy: 0.666\n"
     ]
    },
    {
     "data": {
      "image/png": "[encoded data removed]",
      "text/plain": [
       "<Figure size 432x288 with 2 Axes>"
      ]
     },
     "metadata": {
      "needs_background": "light"
     },
     "output_type": "display_data"
    }
   ],
   "source": [
    "from sklearn import svm\n",
    "from sklearn.metrics import f1_score, precision_score, recall_score, accuracy_score, confusion_matrix, ConfusionMatrixDisplay\n",
    "from matplotlib import pyplot as plt\n",
    "\n",
    "clf = svm.SVC(kernel='poly', degree= 3 ,C = 1, class_weight='balanced')\n",
    "clf.fit(X_train, y_train)\n",
    "\n",
    "y_pred = clf.predict(X_test)\n",
    "\n",
    "\n",
    "pr_subj = precision_score(y_test, y_pred, pos_label=1)\n",
    "pr_obj = precision_score(y_test, y_pred, pos_label=0)\n",
    "\n",
    "rec_subj = recall_score(y_test, y_pred, pos_label=1)\n",
    "rec_obj = recall_score(y_test, y_pred, pos_label=0)\n",
    "\n",
    "f1_subj = f1_score(y_test, y_pred, pos_label=1)\n",
    "f1_obj = f1_score(y_test, y_pred, pos_label=0)\n",
    "f1_mean = f1_score(y_test, y_pred, average = 'macro')\n",
    "\n",
    "acc = accuracy_score(y_test, y_pred,)\n",
    "\n",
    "print('Precision subj: {0:.3f}'.format(pr_subj))\n",
    "print('Precision obj: {0:.3f}'.format(pr_obj))\n",
    "print('Recall subj: {0:.3f}'.format(rec_subj))\n",
    "print('Recall obj: {0:.3f}'.format(rec_obj))\n",
    "print('F1 subj: {0:.3f}'.format(f1_subj))\n",
    "print('F1 obj: {0:.3f}'.format(f1_obj))\n",
    "print('F1 mean: {0:.3f}'.format((f1_mean)))\n",
    "print('Accuracy: {0:.3f}'.format(acc))\n",
    "\n",
    "cm = confusion_matrix(y_test, y_pred, labels=clf.classes_, normalize='true')\n",
    "disp = ConfusionMatrixDisplay(confusion_matrix=cm,\n",
    "                                   display_labels=clf.classes_)\n",
    "disp.plot()\n",
    "plt.show()"
   ]
  },
  {
   "cell_type": "markdown",
   "metadata": {},
   "source": [
    "# Save embeddings for future works\n",
    "\n"
   ]
  }
 ],
 "metadata": {
  "interpreter": {
   "hash": "925faa4ca74e07e17e8807425b2222c7f6b32ec00bddad3c89cd83a7cae0c688"
  },
  "kernelspec": {
   "display_name": "Python 3.9.7 ('base')",
   "language": "python",
   "name": "python3"
  },
  "language_info": {
   "codemirror_mode": {
    "name": "ipython",
    "version": 3
   },
   "file_extension": ".py",
   "mimetype": "text/x-python",
   "name": "python",
   "nbconvert_exporter": "python",
   "pygments_lexer": "ipython3",
   "version": "3.9.7"
  },
  "orig_nbformat": 4
 },
 "nbformat": 4,
 "nbformat_minor": 2
}
