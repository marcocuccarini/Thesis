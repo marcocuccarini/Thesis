{
 "cells": [
  {
   "cell_type": "code",
   "execution_count": 1,
   "metadata": {},
   "outputs": [],
   "source": [
    "import sys\n",
    "import os \n",
    "sys.path.append(os.path.dirname(sys.path[0]) + '/src')\n",
    "import pandas as pd\n",
    "\n",
    "train_df = pd.read_csv('../data/raw/sentipolc/training_set_sentipolc16.csv')\n",
    "test_df = pd.read_csv('../data/raw/sentipolc/test_set_sentipolc16_gold2000.csv', escapechar='\\\\')"
   ]
  },
  {
   "cell_type": "code",
   "execution_count": 2,
   "metadata": {},
   "outputs": [],
   "source": [
    "train_df.to_csv('../data/processed/sentipolc/subj_embeddings_train.csv', index = False, header=True)\n",
    "\n",
    "test_df.to_csv('../data/processed/sentipolc/subj_embeddings_test.csv', index = False, header=True)\n"
   ]
  },
  {
   "cell_type": "code",
   "execution_count": 4,
   "metadata": {},
   "outputs": [],
   "source": [
    "from models.bert_rep import BertRep\n",
    "import numpy as np\n",
    "\n",
    "bert_rep = BertRep()\n",
    "train_df['hs'] = train_df.apply(lambda x: bert_rep.last_hidden_state_average([x['text']]), axis=1)\n",
    "\n",
    "test_df['hs'] = test_df.apply(lambda x: bert_rep.last_hidden_state_average([x['text']]), axis=1)"
   ]
  },
  {
   "cell_type": "code",
   "execution_count": 18,
   "metadata": {},
   "outputs": [
    {
     "data": {
      "text/plain": [
       "list"
      ]
     },
     "execution_count": 18,
     "metadata": {},
     "output_type": "execute_result"
    }
   ],
   "source": [
    "type(train_df['hs'].iloc[0])\n"
   ]
  },
  {
   "cell_type": "code",
   "execution_count": 7,
   "metadata": {},
   "outputs": [],
   "source": [
    "X_train = train_df['hs'].to_list()\n",
    "y_train = train_df['iro'].to_list()\n",
    "\n",
    "X_test = test_df['hs'].to_list()\n",
    "y_test = test_df['iro'].to_list()\n"
   ]
  },
  {
   "cell_type": "code",
   "execution_count": 14,
   "metadata": {},
   "outputs": [
    {
     "name": "stdout",
     "output_type": "stream",
     "text": [
      "Precision iro: 0.432\n",
      "Precision no iro: 0.922\n",
      "Recall iro: 0.409\n",
      "Recall no_iro: 0.929\n",
      "F1 iro: 0.420\n",
      "F1 no_iro: 0.925\n",
      "F1 mean: 0.673\n",
      "Accuracy: 0.868\n"
     ]
    },
    {
     "data": {
      "image/png": "[encoded data removed]",
      "text/plain": [
       "<Figure size 432x288 with 2 Axes>"
      ]
     },
     "metadata": {
      "needs_background": "light"
     },
     "output_type": "display_data"
    }
   ],
   "source": [
    "from sklearn import svm\n",
    "from sklearn.metrics import f1_score, precision_score, recall_score, accuracy_score, confusion_matrix, ConfusionMatrixDisplay\n",
    "from matplotlib import pyplot as plt\n",
    "\n",
    "clf = svm.SVC(kernel='poly', degree= 5 ,C = 0.5, class_weight='balanced')\n",
    "clf.fit(X_train, y_train)\n",
    "\n",
    "y_pred = clf.predict(X_test)\n",
    "\n",
    "pr_iro = precision_score(y_test, y_pred, pos_label=1)\n",
    "pr_no_iro = precision_score(y_test, y_pred, pos_label=0)\n",
    "\n",
    "rec_iro = recall_score(y_test, y_pred, pos_label=1)\n",
    "rec_no_iro = recall_score(y_test, y_pred, pos_label=0)\n",
    "\n",
    "f1_iro = f1_score(y_test, y_pred, pos_label=1)\n",
    "f1_no_iro = f1_score(y_test, y_pred, pos_label=0)\n",
    "\n",
    "acc = accuracy_score(y_test, y_pred,)\n",
    "\n",
    "print('Precision iro: {0:.3f}'.format(pr_iro))\n",
    "print('Precision no iro: {0:.3f}'.format(pr_no_iro))\n",
    "print('Recall iro: {0:.3f}'.format(rec_iro))\n",
    "print('Recall no_iro: {0:.3f}'.format(rec_no_iro))\n",
    "print('F1 iro: {0:.3f}'.format(f1_iro))\n",
    "print('F1 no_iro: {0:.3f}'.format(f1_no_iro))\n",
    "print('F1 mean: {0:.3f}'.format((f1_iro+f1_no_iro)/2))\n",
    "print('Accuracy: {0:.3f}'.format(acc))\n",
    "\n",
    "cm = confusion_matrix(y_test, y_pred, labels=clf.classes_, normalize='true')\n",
    "disp = ConfusionMatrixDisplay(confusion_matrix=cm,\n",
    "                                   display_labels=clf.classes_)\n",
    "disp.plot()\n",
    "plt.show()"
   ]
  },
  {
   "cell_type": "markdown",
   "metadata": {},
   "source": [
    "## Subjectivity"
   ]
  },
  {
   "cell_type": "code",
   "execution_count": 20,
   "metadata": {},
   "outputs": [],
   "source": [
    "X_train = train_df['hs'].to_list()\n",
    "y_train = train_df['subj'].to_list()\n",
    "\n",
    "X_test = test_df['hs'].to_list()\n",
    "y_test = test_df['subj'].to_list()"
   ]
  },
  {
   "cell_type": "code",
   "execution_count": 23,
   "metadata": {},
   "outputs": [
    {
     "name": "stdout",
     "output_type": "stream",
     "text": [
      "Precision subj: 0.972\n",
      "Precision obj: 0.510\n",
      "Recall subj: 0.503\n",
      "Recall obj: 0.973\n",
      "F1 subj: 0.663\n",
      "F1 obj: 0.669\n",
      "F1 mean: 0.666\n",
      "Accuracy: 0.666\n"
     ]
    },
    {
     "data": {
      "image/png": "[encoded data removed]",
      "text/plain": [
       "<Figure size 432x288 with 2 Axes>"
      ]
     },
     "metadata": {
      "needs_background": "light"
     },
     "output_type": "display_data"
    }
   ],
   "source": [
    "from sklearn import svm\n",
    "from sklearn.metrics import f1_score, precision_score, recall_score, accuracy_score, confusion_matrix, ConfusionMatrixDisplay\n",
    "from matplotlib import pyplot as plt\n",
    "\n",
    "clf = svm.SVC(kernel='poly', degree= 3 ,C = 1, class_weight='balanced')\n",
    "clf.fit(X_train, y_train)\n",
    "\n",
    "y_pred = clf.predict(X_test)\n",
    "\n",
    "\n",
    "pr_subj = precision_score(y_test, y_pred, pos_label=1)\n",
    "pr_obj = precision_score(y_test, y_pred, pos_label=0)\n",
    "\n",
    "rec_subj = recall_score(y_test, y_pred, pos_label=1)\n",
    "rec_obj = recall_score(y_test, y_pred, pos_label=0)\n",
    "\n",
    "f1_subj = f1_score(y_test, y_pred, pos_label=1)\n",
    "f1_obj = f1_score(y_test, y_pred, pos_label=0)\n",
    "\n",
    "acc = accuracy_score(y_test, y_pred,)\n",
    "\n",
    "print('Precision subj: {0:.3f}'.format(pr_subj))\n",
    "print('Precision obj: {0:.3f}'.format(pr_obj))\n",
    "print('Recall subj: {0:.3f}'.format(rec_subj))\n",
    "print('Recall obj: {0:.3f}'.format(rec_obj))\n",
    "print('F1 subj: {0:.3f}'.format(f1_subj))\n",
    "print('F1 obj: {0:.3f}'.format(f1_obj))\n",
    "print('F1 mean: {0:.3f}'.format((f1_obj+f1_subj)/2))\n",
    "print('Accuracy: {0:.3f}'.format(acc))\n",
    "\n",
    "cm = confusion_matrix(y_test, y_pred, labels=clf.classes_, normalize='true')\n",
    "disp = ConfusionMatrixDisplay(confusion_matrix=cm,\n",
    "                                   display_labels=clf.classes_)\n",
    "disp.plot()\n",
    "plt.show()"
   ]
  },
  {
   "cell_type": "code",
   "execution_count": null,
   "metadata": {},
   "outputs": [],
   "source": []
  }
 ],
 "metadata": {
  "interpreter": {
   "hash": "925faa4ca74e07e17e8807425b2222c7f6b32ec00bddad3c89cd83a7cae0c688"
  },
  "kernelspec": {
   "display_name": "Python 3.9.7 ('base')",
   "language": "python",
   "name": "python3"
  },
  "language_info": {
   "codemirror_mode": {
    "name": "ipython",
    "version": 3
   },
   "file_extension": ".py",
   "mimetype": "text/x-python",
   "name": "python",
   "nbconvert_exporter": "python",
   "pygments_lexer": "ipython3",
   "version": "3.9.7"
  },
  "orig_nbformat": 4
 },
 "nbformat": 4,
 "nbformat_minor": 2
}
