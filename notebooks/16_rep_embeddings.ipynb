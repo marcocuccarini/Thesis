{
 "cells": [
  {
   "cell_type": "code",
   "execution_count": 1,
   "metadata": {},
   "outputs": [],
   "source": [
    "import sys\n",
    "import os \n",
    "sys.path.append(os.path.dirname(sys.path[0]) + '/src')\n",
    "import pandas as pd\n",
    "\n",
    "train_df = pd.read_csv('../data/raw/sentipolc/training_set_sentipolc16.csv')\n",
    "train_df = train_df.head(20)\n",
    "test_df = pd.read_csv('../data/raw/sentipolc/test_set_sentipolc16_gold2000.csv', escapechar='\\\\')"
   ]
  },
  {
   "cell_type": "code",
   "execution_count": 2,
   "metadata": {},
   "outputs": [],
   "source": [
    "from models.bert_rep import BertRep\n",
    "import numpy as np\n",
    "\n",
    "bert_rep = BertRep()\n",
    "train_df['hs'] = train_df.apply(lambda x: (bert_rep.hidden_states([x['text']])), axis=1)"
   ]
  },
  {
   "cell_type": "code",
   "execution_count": 4,
   "metadata": {},
   "outputs": [
    {
     "data": {
      "text/plain": [
       "768"
      ]
     },
     "execution_count": 4,
     "metadata": {},
     "output_type": "execute_result"
    }
   ],
   "source": [
    "len(train_df['hs'].iloc[0][0][0])"
   ]
  },
  {
   "cell_type": "code",
   "execution_count": 25,
   "metadata": {},
   "outputs": [],
   "source": [
    "from models.bert_rep import BertRep\n",
    "import numpy as np\n",
    "\n",
    "bert_rep = BertRep()\n",
    "train_df['hs'] = train_df.apply(lambda x: np.array(bert_rep.last_hidden_state([x['text']])).flatten(), axis=1)\n",
    "\n",
    "test_df['hs'] = test_df.apply(lambda x: np.array(bert_rep.last_hidden_state([x['text']])).flatten(), axis=1)"
   ]
  },
  {
   "cell_type": "code",
   "execution_count": 27,
   "metadata": {},
   "outputs": [],
   "source": [
    "X_train = train_df['hs'].to_list()\n",
    "y_train = train_df['iro'].to_list()\n",
    "\n",
    "X_test = test_df['hs'].to_list()\n",
    "y_test = test_df['iro'].to_list()\n"
   ]
  },
  {
   "cell_type": "code",
   "execution_count": 28,
   "metadata": {},
   "outputs": [],
   "source": [
    "from sklearn import svm\n",
    "from sklearn.metrics import f1_score, precision_score, recall_score, accuracy_score, confusion_matrix, ConfusionMatrixDisplay\n",
    "from matplotlib import pyplot as plt\n",
    "\n",
    "clf = svm.SVC(kernel='poly' ,C = 1, class_weight='balanced')\n",
    "clf.fit(X_train, y_train)\n",
    "\n",
    "y_pred = clf.predict(X_test)\n",
    "\n",
    "pr_iro = precision_score(y_test, y_pred, pos_label=1)\n",
    "pr_no_iro = precision_score(y_test, y_pred, pos_label=0)\n",
    "\n",
    "rec_iro = recall_score(y_test, y_pred, pos_label=1)\n",
    "rec_no_iro = recall_score(y_test, y_pred, pos_label=0)\n",
    "\n",
    "f1_iro = f1_score(y_test, y_pred, pos_label=1)\n",
    "f1_no_iro = f1_score(y_test, y_pred, pos_label=0)\n",
    "\n",
    "acc = accuracy_score(y_test, y_pred,)\n",
    "\n",
    "print('Precision iro: {0:.3f}'.format(pr_iro))\n",
    "print('Precision no iro: {0:.3f}'.format(pr_no_iro))\n",
    "print('Recall iro: {0:.3f}'.format(rec_iro))\n",
    "print('Recall no_iro: {0:.3f}'.format(rec_no_iro))\n",
    "print('F1 iro: {0:.3f}'.format(f1_iro))\n",
    "print('F1 no_iro: {0:.3f}'.format(f1_no_iro))\n",
    "print('F1 mean: {0:.3f}'.format((f1_iro+f1_no_iro)/2))\n",
    "print('Accuracy: {0:.3f}'.format(acc))\n",
    "\n",
    "cm = confusion_matrix(y_test, y_pred, labels=clf.classes_, normalize='true')\n",
    "disp = ConfusionMatrixDisplay(confusion_matrix=cm,\n",
    "                                   display_labels=clf.classes_)\n",
    "disp.plot()\n",
    "plt.show()"
   ]
  }
 ],
 "metadata": {
  "interpreter": {
   "hash": "925faa4ca74e07e17e8807425b2222c7f6b32ec00bddad3c89cd83a7cae0c688"
  },
  "kernelspec": {
   "display_name": "Python 3.9.7 ('base')",
   "language": "python",
   "name": "python3"
  },
  "language_info": {
   "codemirror_mode": {
    "name": "ipython",
    "version": 3
   },
   "file_extension": ".py",
   "mimetype": "text/x-python",
   "name": "python",
   "nbconvert_exporter": "python",
   "pygments_lexer": "ipython3",
   "version": "3.9.7"
  },
  "orig_nbformat": 4
 },
 "nbformat": 4,
 "nbformat_minor": 2
}
