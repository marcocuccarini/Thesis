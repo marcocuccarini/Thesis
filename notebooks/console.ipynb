{
 "cells": [
  {
   "cell_type": "code",
   "execution_count": 3,
   "metadata": {},
   "outputs": [],
   "source": [
    "import pandas as pd\n",
    "train_df = pd.read_csv('../data/trainSplitNewData.csv', na_filter=False)\n",
    "test_df = pd.read_csv('../data/testSplitNewData.csv', na_filter=False)"
   ]
  },
  {
   "cell_type": "code",
   "execution_count": 8,
   "metadata": {},
   "outputs": [
    {
     "name": "stdout",
     "output_type": "stream",
     "text": [
      "24862\n"
     ]
    },
    {
     "data": {
      "text/plain": [
       "Rep\n",
       "anticipazione               39\n",
       "causa                      348\n",
       "commento                  3122\n",
       "conferma                   448\n",
       "considerazione             230\n",
       "contrapposizione           970\n",
       "deresponsabilizzazione     441\n",
       "descrizione               3648\n",
       "dichiarazione_intenti      421\n",
       "generalizzazione           764\n",
       "giudizio                  1920\n",
       "giustificazione            310\n",
       "implicazione               488\n",
       "non_risposta               821\n",
       "opinione                   929\n",
       "possibilita                432\n",
       "prescrizione              1317\n",
       "previsione                 836\n",
       "proposta                   180\n",
       "ridimensionamento          803\n",
       "sancire                   3888\n",
       "specificazione            1013\n",
       "valutazione               1494\n",
       "Name: Rep, dtype: int64"
      ]
     },
     "execution_count": 8,
     "metadata": {},
     "output_type": "execute_result"
    }
   ],
   "source": [
    "print(len(train_df))\n",
    "train_df.groupby('Rep')['Rep'].count()"
   ]
  },
  {
   "cell_type": "code",
   "execution_count": 9,
   "metadata": {},
   "outputs": [
    {
     "name": "stdout",
     "output_type": "stream",
     "text": [
      "10612\n"
     ]
    },
    {
     "data": {
      "text/plain": [
       "Rep\n",
       "anticipazione               14\n",
       "causa                      125\n",
       "commento                  1281\n",
       "conferma                   191\n",
       "considerazione              82\n",
       "contrapposizione           443\n",
       "deresponsabilizzazione     197\n",
       "descrizione               1560\n",
       "dichiarazione_intenti      222\n",
       "generalizzazione           302\n",
       "giudizio                   844\n",
       "giustificazione            130\n",
       "implicazione               218\n",
       "non_risposta               342\n",
       "opinione                   414\n",
       "possibilita                184\n",
       "prescrizione               603\n",
       "previsione                 334\n",
       "proposta                    76\n",
       "ridimensionamento          299\n",
       "sancire                   1739\n",
       "specificazione             383\n",
       "valutazione                629\n",
       "Name: Rep, dtype: int64"
      ]
     },
     "execution_count": 9,
     "metadata": {},
     "output_type": "execute_result"
    }
   ],
   "source": [
    "print(len(test_df))\n",
    "test_df.groupby('Rep')['Rep'].count()"
   ]
  }
 ],
 "metadata": {
  "interpreter": {
   "hash": "e7370f93d1d0cde622a1f8e1c04877d8463912d04d973331ad4851f04de6915a"
  },
  "kernelspec": {
   "display_name": "Python 3.10.0 64-bit",
   "language": "python",
   "name": "python3"
  },
  "language_info": {
   "codemirror_mode": {
    "name": "ipython",
    "version": 3
   },
   "file_extension": ".py",
   "mimetype": "text/x-python",
   "name": "python",
   "nbconvert_exporter": "python",
   "pygments_lexer": "ipython3",
   "version": "3.10.0"
  },
  "orig_nbformat": 4
 },
 "nbformat": 4,
 "nbformat_minor": 2
}
