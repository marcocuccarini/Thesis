{
 "cells": [
  {
   "cell_type": "code",
   "execution_count": 16,
   "metadata": {},
   "outputs": [],
   "source": [
    "import os\n",
    "import sys \n",
    "sys.path.append(os.path.dirname(sys.path[0]) + '/src')\n",
    "import pandas as pd\n",
    "import torch\n",
    "from transformers import BertForTokenClassification\n",
    "from ast import literal_eval\n",
    "import neptune.new as neptune\n",
    "from transformers import AutoTokenizer\n",
    "\n",
    "from utils.utils import plot_loss, seed_everything\n",
    "from loggers.neptune_logger import NeptuneLogger\n",
    "from trainers.bert_seg_trainer import BertSegTrainer\n",
    "from datasets.ie_hyperion_dataset import IEHyperionDataset, train_val_split\n",
    "\n",
    "seed_everything(4321)\n"
   ]
  },
  {
   "cell_type": "code",
   "execution_count": 11,
   "metadata": {},
   "outputs": [],
   "source": [
    "df = pd.read_csv('../data/processed/splitted_union/ie_hyperion_train.csv', converters={'Stralci': literal_eval, 'Repertori': literal_eval})\n",
    "df_s2 = pd.read_csv('../data/processed/splitted_union/ie_hyperion_train.csv', converters={'Stralci': literal_eval, 'Repertori': literal_eval})\n",
    "test_df = pd.read_csv('../data/processed/splitted_union/ie_s2_hyperion_test.csv', converters={'Stralci': literal_eval, 'Repertori': literal_eval})\n",
    "\n",
    "model_name = 'MiBo/SegBert'\n",
    "\n",
    "train_dataset, val_dataset = train_val_split(df, model_name)\n",
    "train_datasets2, val_datasets2 = train_val_split(df_s2, model_name)"
   ]
  },
  {
   "cell_type": "code",
   "execution_count": null,
   "metadata": {},
   "outputs": [],
   "source": [
    "len(train_dataset) /\n",
    "len(val_dataset)\n",
    "len(train_datasets2)\n",
    "len(val_datasets2)\n",
    "len(test_df.index)"
   ]
  },
  {
   "cell_type": "code",
   "execution_count": 12,
   "metadata": {},
   "outputs": [
    {
     "data": {
      "text/plain": [
       "1010.4"
      ]
     },
     "execution_count": 12,
     "metadata": {},
     "output_type": "execute_result"
    }
   ],
   "source": [
    "len(df_s2.index)/5"
   ]
  },
  {
   "cell_type": "code",
   "execution_count": 17,
   "metadata": {},
   "outputs": [],
   "source": [
    "df = pd.read_csv('../data/processed/splitted_union/ie_hyperion_train.csv', converters={'Stralci': literal_eval, 'Repertori': literal_eval})\n",
    "train_dataset, val_dataset = train_val_split(df, model_name)"
   ]
  },
  {
   "cell_type": "code",
   "execution_count": 19,
   "metadata": {},
   "outputs": [
    {
     "data": {
      "text/plain": [
       "5770"
      ]
     },
     "execution_count": 19,
     "metadata": {},
     "output_type": "execute_result"
    }
   ],
   "source": [
    "val_dataset.df['Stralci'].map(len).sum()"
   ]
  }
 ],
 "metadata": {
  "kernelspec": {
   "display_name": "Python 3.9.7 ('base')",
   "language": "python",
   "name": "python3"
  },
  "language_info": {
   "codemirror_mode": {
    "name": "ipython",
    "version": 3
   },
   "file_extension": ".py",
   "mimetype": "text/x-python",
   "name": "python",
   "nbconvert_exporter": "python",
   "pygments_lexer": "ipython3",
   "version": "3.9.7"
  },
  "orig_nbformat": 4,
  "vscode": {
   "interpreter": {
    "hash": "925faa4ca74e07e17e8807425b2222c7f6b32ec00bddad3c89cd83a7cae0c688"
   }
  }
 },
 "nbformat": 4,
 "nbformat_minor": 2
}
