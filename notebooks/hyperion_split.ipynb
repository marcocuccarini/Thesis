{
 "cells": [
  {
   "cell_type": "code",
   "execution_count": 1,
   "metadata": {},
   "outputs": [],
   "source": [
    "import pandas as pd\n",
    "import numpy as np\n",
    "import math"
   ]
  },
  {
   "cell_type": "code",
   "execution_count": 2,
   "metadata": {},
   "outputs": [],
   "source": [
    "def fill_null_features(df):\n",
    "    for c in ['Domanda','Testo']:\n",
    "        for i in range(0,len(df.index)):  \n",
    "            if not df[c][i]:\n",
    "                j=i\n",
    "                while j>0: \n",
    "                    j-=1\n",
    "                    if df[c][j]:\n",
    "                        df[c][i] = df[c][j]\n",
    "                        break\n",
    "    return df\n",
    "\n",
    "# Se lo stralcio è vuoto, prendo tutto il testo come stralcio. Non usata su Hyperion\n",
    "def copy_text(df):\n",
    "    for i in range(0,len(df.index)):  \n",
    "            if not df['Stralcio'][i]:\n",
    "                df['Stralcio'][i] = df['Testo'][i]\n",
    "    return df\n"
   ]
  },
  {
   "cell_type": "code",
   "execution_count": 3,
   "metadata": {},
   "outputs": [
    {
     "name": "stdout",
     "output_type": "stream",
     "text": [
      "Numero stralci: 35474\n",
      "Numero stralci dopo eliminazione: 35148\n"
     ]
    }
   ],
   "source": [
    "#Hyperion dataset\n",
    "df = pd.read_csv('../data/Original_csv/Hyperion.csv', na_filter=False)\n",
    "df = fill_null_features(df)\n",
    "df['Repertorio'] = df['Repertorio'].str.lower()\n",
    "\n",
    "df = fill_null_features(df)\n",
    "\n",
    "print('Numero stralci: ' + str(len(df.index)))\n",
    "filter = df[\"Repertorio\"] != \"\"\n",
    "df = df[filter]\n",
    "#df = df.applymap(str.lower)\n",
    "print('Numero stralci dopo eliminazione: ' + str(len(df.index)))\n"
   ]
  },
  {
   "cell_type": "code",
   "execution_count": 4,
   "metadata": {},
   "outputs": [],
   "source": [
    "#Lables uniformation uncased\n",
    "df['Repertorio'].replace('implicazioni','implicazione', inplace=True)\n",
    "df['Repertorio'].replace('previsioni','previsione', inplace=True)"
   ]
  },
  {
   "cell_type": "code",
   "execution_count": 5,
   "metadata": {},
   "outputs": [
    {
     "data": {
      "text/plain": [
       "Repertorio\n",
       "anticipazione                 53\n",
       "causa                        473\n",
       "commento                    4403\n",
       "conferma                     639\n",
       "considerazione               312\n",
       "contrapposizione            1413\n",
       "deresponsabilizzazione       638\n",
       "descrizione                 4882\n",
       "dichiarazione di intenti     643\n",
       "generalizzazione            1066\n",
       "giudizio                    2764\n",
       "giustificazione              440\n",
       "implicazione                 706\n",
       "non risposta                1163\n",
       "opinione                    1343\n",
       "possibilità                  616\n",
       "prescrizione                1920\n",
       "previsione                  1170\n",
       "proposta                     256\n",
       "ridimensionamento           1102\n",
       "sancire                     5627\n",
       "specificazione              1396\n",
       "valutazione                 2123\n",
       "Name: Repertorio, dtype: int64"
      ]
     },
     "execution_count": 5,
     "metadata": {},
     "output_type": "execute_result"
    }
   ],
   "source": [
    "df.groupby('Repertorio')['Repertorio'].count()"
   ]
  },
  {
   "cell_type": "markdown",
   "metadata": {},
   "source": [
    "# Split"
   ]
  },
  {
   "cell_type": "code",
   "execution_count": 6,
   "metadata": {},
   "outputs": [],
   "source": [
    "# split\n",
    "test_set_perc = 0.2\n",
    "\n",
    "gb = df.groupby('Repertorio')\n",
    "train_list = []\n",
    "test_list = []\n",
    "\n",
    "for x in gb.groups:\n",
    "    class_df = gb.get_group(x)\n",
    "\n",
    "    # Test set creation\n",
    "    test = class_df.sample(frac=test_set_perc, random_state=1464)\n",
    "    train = pd.concat([class_df,test]).drop_duplicates(keep=False)\n",
    "\n",
    "    train_list.append(train)\n",
    "    test_list.append(test)\n",
    "\n",
    "train_df = pd.concat(train_list)\n",
    "test_df = pd.concat(test_list)\n",
    "\n",
    "\n",
    "train_df.to_csv ('../data/Splitted_full/Hyperion_train.csv', index = False, header=True )\n",
    "test_df.to_csv ('../data/Splitted_full/Hyperion_test.csv', index = False, header=True )\n",
    "\n",
    "\n",
    "\n",
    "    "
   ]
  },
  {
   "cell_type": "code",
   "execution_count": 17,
   "metadata": {},
   "outputs": [
    {
     "data": {
      "text/plain": [
       "Repertorio\n",
       "                              65\n",
       "anticipazione                 11\n",
       "causa                         95\n",
       "commento                     881\n",
       "conferma                     128\n",
       "considerazione                62\n",
       "contrapposizione             283\n",
       "deresponsabilizzazione       128\n",
       "descrizione                  976\n",
       "dichiarazione di intenti     129\n",
       "generalizzazione             213\n",
       "giudizio                     553\n",
       "giustificazione               88\n",
       "implicazione                 141\n",
       "non risposta                 233\n",
       "opinione                     269\n",
       "possibilità                  123\n",
       "prescrizione                 384\n",
       "previsione                   234\n",
       "proposta                      51\n",
       "ridimensionamento            220\n",
       "sancire                     1125\n",
       "specificazione               279\n",
       "valutazione                  425\n",
       "Name: Repertorio, dtype: int64"
      ]
     },
     "execution_count": 17,
     "metadata": {},
     "output_type": "execute_result"
    }
   ],
   "source": [
    "test_df.groupby('Repertorio')['Repertorio'].count()"
   ]
  }
 ],
 "metadata": {
  "interpreter": {
   "hash": "531bf1ddd0b9ee64f0e2ebd6527c520de4e2159f2ffcc26ba5e4b06431092b93"
  },
  "kernelspec": {
   "display_name": "Python 3.9.7 64-bit ('base': conda)",
   "language": "python",
   "name": "python3"
  },
  "language_info": {
   "codemirror_mode": {
    "name": "ipython",
    "version": 3
   },
   "file_extension": ".py",
   "mimetype": "text/x-python",
   "name": "python",
   "nbconvert_exporter": "python",
   "pygments_lexer": "ipython3",
   "version": "3.9.7"
  },
  "orig_nbformat": 4
 },
 "nbformat": 4,
 "nbformat_minor": 2
}
