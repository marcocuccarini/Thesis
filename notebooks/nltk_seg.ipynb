{
 "cells": [
  {
   "cell_type": "code",
   "execution_count": 37,
   "metadata": {},
   "outputs": [],
   "source": [
    "import pandas as pd\n",
    "import sys\n",
    "import os\n",
    "sys.path.append(os.path.dirname(sys.path[0]) + '/src')\n",
    "from ast import literal_eval\n",
    "from datasets.ie_hyperion_dataset import find_word_bounds, clean_text\n",
    "\n",
    "df = pd.read_csv('../data/processed/splitted_union/ie_s2_hyperion_test.csv', converters={'Stralci': literal_eval, 'Repertori': literal_eval})\n",
    "#df = df.head(50)\n",
    "df['Testo'] = df['Testo'].map(clean_text)\n",
    "df['Stralci'] = df['Stralci'].map(lambda x: [clean_text(s) for s in x])\n",
    "df['Bounds'] = df.apply(lambda x: find_word_bounds(x['Stralci'], x['Testo']), axis=1).values.tolist()"
   ]
  },
  {
   "cell_type": "code",
   "execution_count": 34,
   "metadata": {},
   "outputs": [
    {
     "data": {
      "text/plain": [
       "3066"
      ]
     },
     "execution_count": 34,
     "metadata": {},
     "output_type": "execute_result"
    }
   ],
   "source": [
    "len(df.index)"
   ]
  },
  {
   "cell_type": "code",
   "execution_count": 38,
   "metadata": {},
   "outputs": [],
   "source": [
    "from models.nltk_segmenter import NLTKSegmenter\n",
    "from trainers.bert_seg_trainer import *\n",
    "\n",
    "\n",
    "nltk_seg = NLTKSegmenter()\n",
    "df['Stralci_predetti'] = df['Testo'].map(nltk_seg.predict).values.tolist()\n",
    "df['Bounds_predetti'] = df.apply(lambda x: find_word_bounds(x['Stralci_predetti'], x['Testo']), axis=1).values.tolist()\n",
    "\n",
    "df['Bounds_predetti_norm'] = df.apply(lambda x: normalize_bounds_by_repertoire(x['Bounds_predetti'], x), axis=1).values.tolist()"
   ]
  },
  {
   "cell_type": "code",
   "execution_count": 39,
   "metadata": {},
   "outputs": [
    {
     "data": {
      "text/plain": [
       "{'windowdiff': 0.5377331087580638,\n",
       " 'ghd': 69.07510917030568,\n",
       " 'pk': 0.3048955724237861,\n",
       " 'iou': 0.5091148174116299}"
      ]
     },
     "execution_count": 39,
     "metadata": {},
     "output_type": "execute_result"
    }
   ],
   "source": [
    "from trainers.bert_seg_trainer import *\n",
    "from datasets.ie_hyperion_dataset import IEHyperionDataset\n",
    "\n",
    "test_dataset = IEHyperionDataset(df, 'dbmdz/bert-base-italian-xxl-uncased')\n",
    "\n",
    "metrics = compute_metrics(df['Bounds_predetti'].to_list(), test_dataset)\n",
    "metrics"
   ]
  },
  {
   "cell_type": "code",
   "execution_count": 40,
   "metadata": {},
   "outputs": [
    {
     "data": {
      "text/plain": [
       "{'windowdiff': 0.32240403731538053,\n",
       " 'ghd': 27.031441048034935,\n",
       " 'pk': 0.20217541539007025,\n",
       " 'iou': 0.878052741961476}"
      ]
     },
     "execution_count": 40,
     "metadata": {},
     "output_type": "execute_result"
    }
   ],
   "source": [
    "norm_metrics = compute_metrics(df['Bounds_predetti_norm'].to_list(), test_dataset)\n",
    "norm_metrics"
   ]
  }
 ],
 "metadata": {
  "kernelspec": {
   "display_name": "Python 3.9.7 ('base')",
   "language": "python",
   "name": "python3"
  },
  "language_info": {
   "codemirror_mode": {
    "name": "ipython",
    "version": 3
   },
   "file_extension": ".py",
   "mimetype": "text/x-python",
   "name": "python",
   "nbconvert_exporter": "python",
   "pygments_lexer": "ipython3",
   "version": "3.9.7"
  },
  "orig_nbformat": 4,
  "vscode": {
   "interpreter": {
    "hash": "925faa4ca74e07e17e8807425b2222c7f6b32ec00bddad3c89cd83a7cae0c688"
   }
  }
 },
 "nbformat": 4,
 "nbformat_minor": 2
}
