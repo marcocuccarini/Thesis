{
 "cells": [
  {
   "cell_type": "code",
   "execution_count": 13,
   "metadata": {},
   "outputs": [],
   "source": [
    "import pandas as pd\n",
    "import sys\n",
    "import os\n",
    "sys.path.append(os.path.dirname(sys.path[0]) + '/src')\n",
    "from ast import literal_eval\n",
    "from datasets.ie_hyperion_dataset import find_word_bounds, clean_text\n",
    "\n",
    "df = pd.read_csv('../data/processed/splitted_union/ie_s2_hyperion_test.csv', converters={'Stralci': literal_eval, 'Repertori': literal_eval})\n",
    "#df = df.head(50)\n",
    "df['Testo'] = df['Testo'].map(clean_text)\n",
    "df['Stralci'] = df['Stralci'].map(lambda x: [clean_text(s) for s in x])\n",
    "df['Bounds'] = df.apply(lambda x: find_word_bounds(x['Stralci'], x['Testo']), axis=1).values.tolist()"
   ]
  },
  {
   "cell_type": "code",
   "execution_count": 15,
   "metadata": {},
   "outputs": [
    {
     "data": {
      "text/html": [
       "<div>\n",
       "<style scoped>\n",
       "    .dataframe tbody tr th:only-of-type {\n",
       "        vertical-align: middle;\n",
       "    }\n",
       "\n",
       "    .dataframe tbody tr th {\n",
       "        vertical-align: top;\n",
       "    }\n",
       "\n",
       "    .dataframe thead th {\n",
       "        text-align: right;\n",
       "    }\n",
       "</style>\n",
       "<table border=\"1\" class=\"dataframe\">\n",
       "  <thead>\n",
       "    <tr style=\"text-align: right;\">\n",
       "      <th></th>\n",
       "      <th>Testo</th>\n",
       "      <th>Stralci</th>\n",
       "      <th>Repertori</th>\n",
       "      <th>Bounds</th>\n",
       "      <th>Stralci_predetti</th>\n",
       "      <th>Bounds_predetti</th>\n",
       "    </tr>\n",
       "  </thead>\n",
       "  <tbody>\n",
       "    <tr>\n",
       "      <th>0</th>\n",
       "      <td>Comunque, se tutti i giornalisti che oggi si s...</td>\n",
       "      <td>[Comunque,, se tutti i giornalisti che oggi si...</td>\n",
       "      <td>[commento, valutazione, possibilità]</td>\n",
       "      <td>[(0, 0), (1, 36), (37, 41)]</td>\n",
       "      <td>[Comunque, se tutti i giornalisti che oggi si ...</td>\n",
       "      <td>[(0, 41)]</td>\n",
       "    </tr>\n",
       "    <tr>\n",
       "      <th>1</th>\n",
       "      <td>Ha suscitato scandalo la proposta di Salvini d...</td>\n",
       "      <td>[Ha suscitato scandalo la proposta di Salvini ...</td>\n",
       "      <td>[sancire, valutazione, conferma, conferma, imp...</td>\n",
       "      <td>[(0, 12), (13, 33), (34, 51), (52, 63), (64, 7...</td>\n",
       "      <td>[Ha suscitato scandalo la proposta di Salvini ...</td>\n",
       "      <td>[(0, 12), (13, 33), (34, 51), (52, 63), (64, 7...</td>\n",
       "    </tr>\n",
       "    <tr>\n",
       "      <th>2</th>\n",
       "      <td>Via via che si aggrava la crisi prodotta dalla...</td>\n",
       "      <td>[Via via che si aggrava la crisi prodotta dall...</td>\n",
       "      <td>[causa, sancire, causa, sancire, giudizio, com...</td>\n",
       "      <td>[(0, 21), (22, 35), (36, 55), (56, 78), (79, 8...</td>\n",
       "      <td>[Via via che si aggrava la crisi prodotta dall...</td>\n",
       "      <td>[(0, 21), (22, 55), (56, 78), (79, 160), (161,...</td>\n",
       "    </tr>\n",
       "    <tr>\n",
       "      <th>3</th>\n",
       "      <td>\"In Veneto, livelli più elevati di tamponi e m...</td>\n",
       "      <td>[\"In Veneto, livelli più elevati di tamponi e ...</td>\n",
       "      <td>[valutazione, sancire]</td>\n",
       "      <td>[(0, 32), (33, 53)]</td>\n",
       "      <td>[\"In Veneto, livelli più elevati di tamponi e ...</td>\n",
       "      <td>[(0, 32), (33, 53)]</td>\n",
       "    </tr>\n",
       "    <tr>\n",
       "      <th>4</th>\n",
       "      <td>Presidente, il corretto di stile di vita è tor...</td>\n",
       "      <td>[Presidente, il corretto di stile di vita è to...</td>\n",
       "      <td>[opinione, sancire]</td>\n",
       "      <td>[(0, 15), (16, 30)]</td>\n",
       "      <td>[Presidente, il corretto di stile di vita è to...</td>\n",
       "      <td>[(0, 15), (16, 30)]</td>\n",
       "    </tr>\n",
       "    <tr>\n",
       "      <th>...</th>\n",
       "      <td>...</td>\n",
       "      <td>...</td>\n",
       "      <td>...</td>\n",
       "      <td>...</td>\n",
       "      <td>...</td>\n",
       "      <td>...</td>\n",
       "    </tr>\n",
       "    <tr>\n",
       "      <th>1238</th>\n",
       "      <td>Il fatto è che intanto è tutto fermo, e per mu...</td>\n",
       "      <td>[Il fatto è che intanto è tutto fermo, e per m...</td>\n",
       "      <td>[sancire, possibilità]</td>\n",
       "      <td>[(0, 20), (21, 53)]</td>\n",
       "      <td>[Il fatto è che intanto è tutto fermo, e per m...</td>\n",
       "      <td>[(0, 20), (21, 53)]</td>\n",
       "    </tr>\n",
       "    <tr>\n",
       "      <th>1239</th>\n",
       "      <td>libero di pensare che sia banale influenza . I...</td>\n",
       "      <td>[libero di pensare che sia banale influenza .,...</td>\n",
       "      <td>[sancire, specificazione]</td>\n",
       "      <td>[(0, 6), (7, 25)]</td>\n",
       "      <td>[libero di pensare che sia banale influenza .,...</td>\n",
       "      <td>[(0, 6), (7, 25)]</td>\n",
       "    </tr>\n",
       "    <tr>\n",
       "      <th>1240</th>\n",
       "      <td>Zaia ,lasciane qualcuno per i ritardatari se p...</td>\n",
       "      <td>[Zaia ,lasciane qualcuno per i ritardatari, se...</td>\n",
       "      <td>[sancire, specificazione, sancire, previsione,...</td>\n",
       "      <td>[(0, 5), (6, 13), (14, 15), (16, 24), (25, 31)]</td>\n",
       "      <td>[Zaia ,lasciane qualcuno per i ritardatari se ...</td>\n",
       "      <td>[(0, 31)]</td>\n",
       "    </tr>\n",
       "    <tr>\n",
       "      <th>1241</th>\n",
       "      <td>ZAIA SERVONO VACCINI ASL 7 BASSANO DEL GRAPPA!...</td>\n",
       "      <td>[ZAIA SERVONO VACCINI ASL 7 BASSANO DEL GRAPPA...</td>\n",
       "      <td>[sancire, prescrizione]</td>\n",
       "      <td>[(0, 7), (8, 19)]</td>\n",
       "      <td>[ZAIA SERVONO VACCINI ASL 7 BASSANO DEL GRAPPA...</td>\n",
       "      <td>[(0, 7), (8, 19)]</td>\n",
       "    </tr>\n",
       "    <tr>\n",
       "      <th>1242</th>\n",
       "      <td>Questo dovrebbe essere un mrstriere che uno sc...</td>\n",
       "      <td>[Questo dovrebbe essere un mrstriere che uno s...</td>\n",
       "      <td>[prescrizione, sancire]</td>\n",
       "      <td>[(0, 21), (22, 35)]</td>\n",
       "      <td>[Questo dovrebbe essere un mrstriere che uno s...</td>\n",
       "      <td>[(0, 21), (22, 35)]</td>\n",
       "    </tr>\n",
       "  </tbody>\n",
       "</table>\n",
       "<p>1243 rows × 6 columns</p>\n",
       "</div>"
      ],
      "text/plain": [
       "                                                  Testo  \\\n",
       "0     Comunque, se tutti i giornalisti che oggi si s...   \n",
       "1     Ha suscitato scandalo la proposta di Salvini d...   \n",
       "2     Via via che si aggrava la crisi prodotta dalla...   \n",
       "3     \"In Veneto, livelli più elevati di tamponi e m...   \n",
       "4     Presidente, il corretto di stile di vita è tor...   \n",
       "...                                                 ...   \n",
       "1238  Il fatto è che intanto è tutto fermo, e per mu...   \n",
       "1239  libero di pensare che sia banale influenza . I...   \n",
       "1240  Zaia ,lasciane qualcuno per i ritardatari se p...   \n",
       "1241  ZAIA SERVONO VACCINI ASL 7 BASSANO DEL GRAPPA!...   \n",
       "1242  Questo dovrebbe essere un mrstriere che uno sc...   \n",
       "\n",
       "                                                Stralci  \\\n",
       "0     [Comunque,, se tutti i giornalisti che oggi si...   \n",
       "1     [Ha suscitato scandalo la proposta di Salvini ...   \n",
       "2     [Via via che si aggrava la crisi prodotta dall...   \n",
       "3     [\"In Veneto, livelli più elevati di tamponi e ...   \n",
       "4     [Presidente, il corretto di stile di vita è to...   \n",
       "...                                                 ...   \n",
       "1238  [Il fatto è che intanto è tutto fermo, e per m...   \n",
       "1239  [libero di pensare che sia banale influenza .,...   \n",
       "1240  [Zaia ,lasciane qualcuno per i ritardatari, se...   \n",
       "1241  [ZAIA SERVONO VACCINI ASL 7 BASSANO DEL GRAPPA...   \n",
       "1242  [Questo dovrebbe essere un mrstriere che uno s...   \n",
       "\n",
       "                                              Repertori  \\\n",
       "0                  [commento, valutazione, possibilità]   \n",
       "1     [sancire, valutazione, conferma, conferma, imp...   \n",
       "2     [causa, sancire, causa, sancire, giudizio, com...   \n",
       "3                                [valutazione, sancire]   \n",
       "4                                   [opinione, sancire]   \n",
       "...                                                 ...   \n",
       "1238                             [sancire, possibilità]   \n",
       "1239                          [sancire, specificazione]   \n",
       "1240  [sancire, specificazione, sancire, previsione,...   \n",
       "1241                            [sancire, prescrizione]   \n",
       "1242                            [prescrizione, sancire]   \n",
       "\n",
       "                                                 Bounds  \\\n",
       "0                           [(0, 0), (1, 36), (37, 41)]   \n",
       "1     [(0, 12), (13, 33), (34, 51), (52, 63), (64, 7...   \n",
       "2     [(0, 21), (22, 35), (36, 55), (56, 78), (79, 8...   \n",
       "3                                   [(0, 32), (33, 53)]   \n",
       "4                                   [(0, 15), (16, 30)]   \n",
       "...                                                 ...   \n",
       "1238                                [(0, 20), (21, 53)]   \n",
       "1239                                  [(0, 6), (7, 25)]   \n",
       "1240    [(0, 5), (6, 13), (14, 15), (16, 24), (25, 31)]   \n",
       "1241                                  [(0, 7), (8, 19)]   \n",
       "1242                                [(0, 21), (22, 35)]   \n",
       "\n",
       "                                       Stralci_predetti  \\\n",
       "0     [Comunque, se tutti i giornalisti che oggi si ...   \n",
       "1     [Ha suscitato scandalo la proposta di Salvini ...   \n",
       "2     [Via via che si aggrava la crisi prodotta dall...   \n",
       "3     [\"In Veneto, livelli più elevati di tamponi e ...   \n",
       "4     [Presidente, il corretto di stile di vita è to...   \n",
       "...                                                 ...   \n",
       "1238  [Il fatto è che intanto è tutto fermo, e per m...   \n",
       "1239  [libero di pensare che sia banale influenza .,...   \n",
       "1240  [Zaia ,lasciane qualcuno per i ritardatari se ...   \n",
       "1241  [ZAIA SERVONO VACCINI ASL 7 BASSANO DEL GRAPPA...   \n",
       "1242  [Questo dovrebbe essere un mrstriere che uno s...   \n",
       "\n",
       "                                        Bounds_predetti  \n",
       "0                                             [(0, 41)]  \n",
       "1     [(0, 12), (13, 33), (34, 51), (52, 63), (64, 7...  \n",
       "2     [(0, 21), (22, 55), (56, 78), (79, 160), (161,...  \n",
       "3                                   [(0, 32), (33, 53)]  \n",
       "4                                   [(0, 15), (16, 30)]  \n",
       "...                                                 ...  \n",
       "1238                                [(0, 20), (21, 53)]  \n",
       "1239                                  [(0, 6), (7, 25)]  \n",
       "1240                                          [(0, 31)]  \n",
       "1241                                  [(0, 7), (8, 19)]  \n",
       "1242                                [(0, 21), (22, 35)]  \n",
       "\n",
       "[1243 rows x 6 columns]"
      ]
     },
     "execution_count": 15,
     "metadata": {},
     "output_type": "execute_result"
    }
   ],
   "source": [
    "df"
   ]
  },
  {
   "cell_type": "code",
   "execution_count": 23,
   "metadata": {},
   "outputs": [],
   "source": [
    "from models.nltk_segmenter import NLTKSegmenter\n",
    "from trainers.bert_seg_trainer import *\n",
    "\n",
    "\n",
    "nltk_seg = NLTKSegmenter()\n",
    "df['Stralci_predetti'] = df['Testo'].map(nltk_seg.predict).values.tolist()\n",
    "df['Bounds_predetti'] = df.apply(lambda x: find_word_bounds(x['Stralci_predetti'], x['Testo']), axis=1).values.tolist()\n",
    "\n",
    "df['Bounds_predetti_norm'] = df.apply(lambda x: normalize_bounds_by_repertoire(x['Bounds_predetti'], x), axis=1).values.tolist()"
   ]
  },
  {
   "cell_type": "code",
   "execution_count": 18,
   "metadata": {},
   "outputs": [
    {
     "data": {
      "text/plain": [
       "[(0, 41)]"
      ]
     },
     "execution_count": 18,
     "metadata": {},
     "output_type": "execute_result"
    }
   ],
   "source": [
    "df['Bounds_predetti'].iloc[0]"
   ]
  },
  {
   "cell_type": "code",
   "execution_count": 21,
   "metadata": {},
   "outputs": [
    {
     "data": {
      "text/plain": [
       "{'windowdiff': 0.5377331087580638,\n",
       " 'ghd': 69.07510917030568,\n",
       " 'pk': 0.3048955724237861,\n",
       " 'iou': 0.5091148174116299}"
      ]
     },
     "execution_count": 21,
     "metadata": {},
     "output_type": "execute_result"
    }
   ],
   "source": [
    "from trainers.bert_seg_trainer import *\n",
    "from datasets.ie_hyperion_dataset import IEHyperionDataset\n",
    "\n",
    "test_dataset = IEHyperionDataset(df, 'dbmdz/bert-base-italian-xxl-uncased')\n",
    "\n",
    "metrics = compute_metrics(df['Bounds_predetti'].to_list(), test_dataset)\n",
    "metrics"
   ]
  },
  {
   "cell_type": "code",
   "execution_count": 25,
   "metadata": {},
   "outputs": [
    {
     "data": {
      "text/plain": [
       "{'windowdiff': 0.32240403731538053,\n",
       " 'ghd': 27.031441048034935,\n",
       " 'pk': 0.20217541539007025,\n",
       " 'iou': 0.878052741961476}"
      ]
     },
     "execution_count": 25,
     "metadata": {},
     "output_type": "execute_result"
    }
   ],
   "source": [
    "norm_metrics = compute_metrics(df['Bounds_predetti_norm'].to_list(), test_dataset)\n",
    "norm_metrics"
   ]
  }
 ],
 "metadata": {
  "kernelspec": {
   "display_name": "Python 3.9.7 ('base')",
   "language": "python",
   "name": "python3"
  },
  "language_info": {
   "codemirror_mode": {
    "name": "ipython",
    "version": 3
   },
   "file_extension": ".py",
   "mimetype": "text/x-python",
   "name": "python",
   "nbconvert_exporter": "python",
   "pygments_lexer": "ipython3",
   "version": "3.9.7"
  },
  "orig_nbformat": 4,
  "vscode": {
   "interpreter": {
    "hash": "925faa4ca74e07e17e8807425b2222c7f6b32ec00bddad3c89cd83a7cae0c688"
   }
  }
 },
 "nbformat": 4,
 "nbformat_minor": 2
}
