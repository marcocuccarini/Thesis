{
 "cells": [
  {
   "cell_type": "code",
   "execution_count": 1,
   "metadata": {},
   "outputs": [],
   "source": [
    "import pandas as pd\n",
    "import numpy as np\n",
    "import math"
   ]
  },
  {
   "cell_type": "code",
   "execution_count": 2,
   "metadata": {},
   "outputs": [],
   "source": [
    "def fill_null_features(df):\n",
    "    for c in ['Domanda','Testo']:\n",
    "        for i in range(0,len(df.index)):  \n",
    "            if not df[c][i]:\n",
    "                j=i\n",
    "                while j>0: \n",
    "                    j-=1\n",
    "                    if df[c][j]:\n",
    "                        df[c][i] = df[c][j]\n",
    "                        break\n",
    "    return df\n",
    "\n",
    "def copy_text(df):\n",
    "    for i in range(0,len(df.index)):  \n",
    "            if not df['Stralcio'][i]:\n",
    "                df['Stralcio'][i] = df['Testo'][i]\n",
    "    return df\n"
   ]
  },
  {
   "cell_type": "code",
   "execution_count": 3,
   "metadata": {},
   "outputs": [
    {
     "name": "stdout",
     "output_type": "stream",
     "text": [
      "Numero stralci: 35474\n",
      "Numero stralci dopo eliminazione: 35148\n"
     ]
    }
   ],
   "source": [
    "#Hyperion dataset\n",
    "df = pd.read_csv('../data/Original_csv/Hyperion.csv', na_filter=False)\n",
    "df = fill_null_features(df)\n",
    "\n",
    "print('Numero stralci: ' + str(len(df.index)))\n",
    "filter = df[\"Repertorio\"] != \"\"\n",
    "df = df[filter]\n",
    "df = df.applymap(str.lower)\n",
    "print('Numero stralci dopo eliminazione: ' + str(len(df.index)))"
   ]
  },
  {
   "cell_type": "code",
   "execution_count": 4,
   "metadata": {},
   "outputs": [],
   "source": [
    "#Lables uniformation uncased\n",
    "df['Repertorio'].replace('implicazioni','implicazione', inplace=True)\n",
    "df['Repertorio'].replace('previsioni','previsione', inplace=True)"
   ]
  },
  {
   "cell_type": "markdown",
   "metadata": {},
   "source": [
    "# Split"
   ]
  },
  {
   "cell_type": "code",
   "execution_count": 5,
   "metadata": {},
   "outputs": [],
   "source": [
    "test_set_perc = 0.2\n",
    "\n",
    "gb = df.groupby('Repertorio')\n",
    "train_list = []\n",
    "test_list = []\n",
    "\n",
    "for x in gb.groups:\n",
    "    class_df = gb.get_group(x)\n",
    "    test = class_df.sample(frac=test_set_perc, random_state=1464)\n",
    "    train = pd.concat([class_df,test]).drop_duplicates(keep=False)\n",
    "    train_list.append(train)\n",
    "    test_list.append(test)\n",
    "\n",
    "train_df = pd.concat(train_list)\n",
    "test_df = pd.concat(test_list)\n",
    "\n",
    "\n",
    "train_df.to_csv ('../data/Splitted/train_.csv', index = False, header=True )\n",
    "test_df.to_csv ('../data/Splitted/test_split.csv', index = False, header=True )\n",
    "\n",
    "\n",
    "    "
   ]
  },
  {
   "cell_type": "code",
   "execution_count": 6,
   "metadata": {},
   "outputs": [
    {
     "data": {
      "text/plain": [
       "Repertorio\n",
       "anticipazione                 42\n",
       "causa                        378\n",
       "commento                    3503\n",
       "conferma                     511\n",
       "considerazione               250\n",
       "contrapposizione            1128\n",
       "deresponsabilizzazione       506\n",
       "descrizione                 3891\n",
       "dichiarazione di intenti     514\n",
       "generalizzazione             853\n",
       "giudizio                    2207\n",
       "giustificazione              351\n",
       "implicazione                 565\n",
       "non risposta                 928\n",
       "opinione                    1072\n",
       "possibilità                  493\n",
       "prescrizione                1534\n",
       "previsione                   933\n",
       "proposta                     205\n",
       "ridimensionamento            880\n",
       "sancire                     4494\n",
       "specificazione              1116\n",
       "valutazione                 1698\n",
       "Name: Repertorio, dtype: int64"
      ]
     },
     "execution_count": 6,
     "metadata": {},
     "output_type": "execute_result"
    }
   ],
   "source": [
    "train_df.groupby('Repertorio')['Repertorio'].count()"
   ]
  },
  {
   "cell_type": "code",
   "execution_count": 7,
   "metadata": {},
   "outputs": [
    {
     "data": {
      "text/plain": [
       "\"\\ndf['Repertorio'].replace('Implicazioni','Implicazione', inplace=True)\\ndf['Repertorio'].replace('Previsioni','Previsione', inplace=True)\\ndf['Repertorio'].replace('causa','Causa', inplace=True)\\ndf['Repertorio'].replace('commento','Commento', inplace=True)\\ndf['Repertorio'].replace('contrapposizione','Contrapposizione', inplace=True)\\ndf['Repertorio'].replace('generalizzazione','Generalizzazione', inplace=True)\\ndf['Repertorio'].replace('giudizio','Giudizio', inplace=True)\\ndf['Repertorio'].replace('prescrizione','Prescrizione', inplace=True)\\ndf['Repertorio'].replace('previsione','Previsione', inplace=True)\\ndf['Repertorio'].replace('sancire','Sancire', inplace=True)\\ndf['Repertorio'].replace('specificazione','Specificazione', inplace=True)\\ndf['Repertorio'].replace('valutazione','Valutazione', inplace=True)\\n\""
      ]
     },
     "execution_count": 7,
     "metadata": {},
     "output_type": "execute_result"
    }
   ],
   "source": [
    "#Lables uniformation Cased\n",
    "\"\"\"\n",
    "df['Repertorio'].replace('Implicazioni','Implicazione', inplace=True)\n",
    "df['Repertorio'].replace('Previsioni','Previsione', inplace=True)\n",
    "df['Repertorio'].replace('causa','Causa', inplace=True)\n",
    "df['Repertorio'].replace('commento','Commento', inplace=True)\n",
    "df['Repertorio'].replace('contrapposizione','Contrapposizione', inplace=True)\n",
    "df['Repertorio'].replace('generalizzazione','Generalizzazione', inplace=True)\n",
    "df['Repertorio'].replace('giudizio','Giudizio', inplace=True)\n",
    "df['Repertorio'].replace('prescrizione','Prescrizione', inplace=True)\n",
    "df['Repertorio'].replace('previsione','Previsione', inplace=True)\n",
    "df['Repertorio'].replace('sancire','Sancire', inplace=True)\n",
    "df['Repertorio'].replace('specificazione','Specificazione', inplace=True)\n",
    "df['Repertorio'].replace('valutazione','Valutazione', inplace=True)\n",
    "\"\"\""
   ]
  }
 ],
 "metadata": {
  "interpreter": {
   "hash": "531bf1ddd0b9ee64f0e2ebd6527c520de4e2159f2ffcc26ba5e4b06431092b93"
  },
  "kernelspec": {
   "display_name": "Python 3.9.7 64-bit ('base': conda)",
   "language": "python",
   "name": "python3"
  },
  "language_info": {
   "codemirror_mode": {
    "name": "ipython",
    "version": 3
   },
   "file_extension": ".py",
   "mimetype": "text/x-python",
   "name": "python",
   "nbconvert_exporter": "python",
   "pygments_lexer": "ipython3",
   "version": "3.9.7"
  },
  "orig_nbformat": 4
 },
 "nbformat": 4,
 "nbformat_minor": 2
}
