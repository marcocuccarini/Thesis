{
 "cells": [
  {
   "cell_type": "code",
   "execution_count": 1,
   "metadata": {},
   "outputs": [],
   "source": [
    "import pandas as pd\n",
    "import numpy as np\n",
    "import math"
   ]
  },
  {
   "cell_type": "code",
   "execution_count": 4,
   "metadata": {},
   "outputs": [],
   "source": [
    "def fill_null_features(df):\n",
    "    for c in ['Domanda','Testo']:\n",
    "        for i in range(0,len(df.index)):  \n",
    "            if not df[c][i]:\n",
    "                j=i\n",
    "                while j>0: \n",
    "                    j-=1\n",
    "                    if df[c][j]:\n",
    "                        df[c][i] = df[c][j]\n",
    "                        break\n",
    "    return df\n",
    "\n",
    "def copy_text(df):\n",
    "    for i in range(0,len(df.index)):  \n",
    "            if not df['Stralcio'][i]:\n",
    "                df['Stralcio'][i] = df['Testo'][i]\n",
    "    return df\n"
   ]
  },
  {
   "cell_type": "code",
   "execution_count": 18,
   "metadata": {},
   "outputs": [
    {
     "name": "stdout",
     "output_type": "stream",
     "text": [
      "Numero stralci: 35474\n",
      "Numero stralci dopo eliminazione: 35148\n"
     ]
    }
   ],
   "source": [
    "#Hyperion dataset\n",
    "df = pd.read_csv('../data/Original_csv/Hyperion.csv', na_filter=False)\n",
    "df = fill_null_features(df)\n",
    "\n",
    "print('Numero stralci: ' + str(len(df.index)))\n",
    "filter = df[\"Repertorio\"] != \"\"\n",
    "df = df[filter]\n",
    "df = df.applymap(str.lower)\n",
    "print('Numero stralci dopo eliminazione: ' + str(len(df.index)))"
   ]
  },
  {
   "cell_type": "code",
   "execution_count": 23,
   "metadata": {},
   "outputs": [
    {
     "data": {
      "text/plain": [
       "Repertorio\n",
       "anticipazione                 53\n",
       "causa                        473\n",
       "commento                    4403\n",
       "conferma                     639\n",
       "considerazione               312\n",
       "contrapposizione            1413\n",
       "deresponsabilizzazione       638\n",
       "descrizione                 4882\n",
       "dichiarazione di intenti     643\n",
       "generalizzazione            1066\n",
       "giudizio                    2764\n",
       "giustificazione              440\n",
       "implicazione                 706\n",
       "non risposta                1163\n",
       "opinione                    1343\n",
       "possibilità                  616\n",
       "prescrizione                1920\n",
       "previsione                  1170\n",
       "proposta                     256\n",
       "ridimensionamento           1102\n",
       "sancire                     5627\n",
       "specificazione              1396\n",
       "valutazione                 2123\n",
       "Name: Repertorio, dtype: int64"
      ]
     },
     "execution_count": 23,
     "metadata": {},
     "output_type": "execute_result"
    }
   ],
   "source": [
    "df.groupby('Repertorio')['Repertorio'].count()\n",
    "\n"
   ]
  },
  {
   "cell_type": "code",
   "execution_count": 22,
   "metadata": {},
   "outputs": [],
   "source": [
    "#Lables uniformation uncased\n",
    "\n",
    "df['Repertorio'].replace('implicazioni','implicazione', inplace=True)\n",
    "df['Repertorio'].replace('previsioni','previsione', inplace=True)"
   ]
  },
  {
   "cell_type": "code",
   "execution_count": null,
   "metadata": {},
   "outputs": [],
   "source": []
  },
  {
   "cell_type": "code",
   "execution_count": null,
   "metadata": {},
   "outputs": [],
   "source": [
    "#Lables uniformation Cased\n",
    "\n",
    "df['Repertorio'].replace('Implicazioni','Implicazione', inplace=True)\n",
    "df['Repertorio'].replace('Previsioni','Previsione', inplace=True)\n",
    "df['Repertorio'].replace('causa','Causa', inplace=True)\n",
    "df['Repertorio'].replace('commento','Commento', inplace=True)\n",
    "df['Repertorio'].replace('contrapposizione','Contrapposizione', inplace=True)\n",
    "df['Repertorio'].replace('generalizzazione','Generalizzazione', inplace=True)\n",
    "df['Repertorio'].replace('giudizio','Giudizio', inplace=True)\n",
    "df['Repertorio'].replace('prescrizione','Prescrizione', inplace=True)\n",
    "df['Repertorio'].replace('previsione','Previsione', inplace=True)\n",
    "df['Repertorio'].replace('sancire','Sancire', inplace=True)\n",
    "df['Repertorio'].replace('specificazione','Specificazione', inplace=True)\n",
    "df['Repertorio'].replace('valutazione','Valutazione', inplace=True)"
   ]
  }
 ],
 "metadata": {
  "interpreter": {
   "hash": "531bf1ddd0b9ee64f0e2ebd6527c520de4e2159f2ffcc26ba5e4b06431092b93"
  },
  "kernelspec": {
   "display_name": "Python 3.9.7 64-bit ('base': conda)",
   "language": "python",
   "name": "python3"
  },
  "language_info": {
   "codemirror_mode": {
    "name": "ipython",
    "version": 3
   },
   "file_extension": ".py",
   "mimetype": "text/x-python",
   "name": "python",
   "nbconvert_exporter": "python",
   "pygments_lexer": "ipython3",
   "version": "3.9.7"
  },
  "orig_nbformat": 4
 },
 "nbformat": 4,
 "nbformat_minor": 2
}
