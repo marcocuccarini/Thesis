{
 "cells": [
  {
   "cell_type": "code",
   "execution_count": 17,
   "metadata": {},
   "outputs": [],
   "source": [
    "import pandas as pd\n",
    "import numpy as np\n",
    "import math"
   ]
  },
  {
   "cell_type": "code",
   "execution_count": 27,
   "metadata": {},
   "outputs": [],
   "source": [
    "def fill_null_features(df):\n",
    "    for c in ['Domanda','Testo']:\n",
    "        for i in range(0,len(df.index)):  \n",
    "            if not df[c][i]:\n",
    "                j=i\n",
    "                while j>0: \n",
    "                    j-=1\n",
    "                    if df[c][j]:\n",
    "                        df[c][i] = df[c][j]\n",
    "                        break\n",
    "    return df\n",
    "\n",
    "def copy_text(df):\n",
    "    for i in range(0,len(df.index)):  \n",
    "            if not df['Stralcio'][i]:\n",
    "                df['Stralcio'][i] = df['Testo'][i]\n",
    "    return df\n"
   ]
  },
  {
   "cell_type": "code",
   "execution_count": 25,
   "metadata": {},
   "outputs": [
    {
     "name": "stdout",
     "output_type": "stream",
     "text": [
      "Numero stralci: 35474\n",
      "Numero stralci: 35148\n"
     ]
    }
   ],
   "source": [
    "#Hyperion dataset\n",
    "df = pd.read_csv('../data/Original_csv/Hyperion.csv', na_filter=False)\n",
    "df = fill_null_features(df)\n",
    "\n",
    "print('Numero stralci: ' + str(len(df.index)))\n",
    "\n",
    "filter = df[\"Stralcio\"] != \"\"\n",
    "df = df[filter]\n",
    "\n",
    "filter = df[\"Repertorio\"] != \"\"\n",
    "df = df[filter]\n",
    "\n",
    "print('Numero stralci dopo eliminazione: ' + str(len(df.index)))"
   ]
  },
  {
   "cell_type": "code",
   "execution_count": 12,
   "metadata": {},
   "outputs": [
    {
     "data": {
      "text/plain": [
       "<bound method NDFrame.head of                                                  Domanda  \\\n",
       "0      A cosa serve questo testo per il perseguimento...   \n",
       "1                                                    NaN   \n",
       "2                                                    NaN   \n",
       "3                                                    NaN   \n",
       "4                                                    NaN   \n",
       "...                                                  ...   \n",
       "35469                                                NaN   \n",
       "35470                                                NaN   \n",
       "35471                                                NaN   \n",
       "35472                                                NaN   \n",
       "35473                                                NaN   \n",
       "\n",
       "                                                   Testo  \\\n",
       "0      Dunque vediamo se ho capito: Conte le canta a ...   \n",
       "1                                                    NaN   \n",
       "2                                                    NaN   \n",
       "3                                                    NaN   \n",
       "4                                                    NaN   \n",
       "...                                                  ...   \n",
       "35469  La dittatura sanitaria sta pagando il loro sti...   \n",
       "35470  i vol la bota piena e la mojere imbriaga. La v...   \n",
       "35471  Si parla di libertà. Ma dove é la tutela di un...   \n",
       "35472                                                NaN   \n",
       "35473                                                NaN   \n",
       "\n",
       "                                                Stralcio  \\\n",
       "0                           Dunque vediamo se ho capito:   \n",
       "1                 Conte le canta a Salvini e alla Meloni   \n",
       "2      questi reagiscono e le cantano a loro volta a ...   \n",
       "3      Mentana si smarca da Conte e finisce con foto ...   \n",
       "4            Siamo tornati per un attimo alla normalità:   \n",
       "...                                                  ...   \n",
       "35469  La dittatura sanitaria sta pagando il loro sti...   \n",
       "35470  i vol la bota piena e la mojere imbriaga. La v...   \n",
       "35471  Si parla di libertà. Ma dove é la tutela di un...   \n",
       "35472  Sappiamo di persone ricoverate per ictus, infa...   \n",
       "35473                        Questo non DEVE succede più   \n",
       "\n",
       "                     Repertorio  \n",
       "0      Dichiarazione di intenti  \n",
       "1                       Sancire  \n",
       "2               Giustificazione  \n",
       "3                       Sancire  \n",
       "4                      Commento  \n",
       "...                         ...  \n",
       "35469                  Commento  \n",
       "35470                  Commento  \n",
       "35471          Generalizzazione  \n",
       "35472                   Sancire  \n",
       "35473              Prescrizione  \n",
       "\n",
       "[35474 rows x 4 columns]>"
      ]
     },
     "execution_count": 12,
     "metadata": {},
     "output_type": "execute_result"
    }
   ],
   "source": [
    "df.head"
   ]
  }
 ],
 "metadata": {
  "interpreter": {
   "hash": "531bf1ddd0b9ee64f0e2ebd6527c520de4e2159f2ffcc26ba5e4b06431092b93"
  },
  "kernelspec": {
   "display_name": "Python 3.9.7 64-bit ('base': conda)",
   "language": "python",
   "name": "python3"
  },
  "language_info": {
   "codemirror_mode": {
    "name": "ipython",
    "version": 3
   },
   "file_extension": ".py",
   "mimetype": "text/x-python",
   "name": "python",
   "nbconvert_exporter": "python",
   "pygments_lexer": "ipython3",
   "version": "3.9.7"
  },
  "orig_nbformat": 4
 },
 "nbformat": 4,
 "nbformat_minor": 2
}
