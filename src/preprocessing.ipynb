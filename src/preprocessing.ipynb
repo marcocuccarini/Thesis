{
 "cells": [
  {
   "cell_type": "code",
   "execution_count": 2,
   "metadata": {},
   "outputs": [],
   "source": [
    "import pandas as pd\n",
    "import numpy as np\n",
    "import math"
   ]
  },
  {
   "cell_type": "code",
   "execution_count": 3,
   "metadata": {},
   "outputs": [],
   "source": [
    "def fill_null_features(df):\n",
    "    for c in ['Domanda','Testo']:\n",
    "        for i in range(0,len(df.index)):  \n",
    "            if not df[c][i]:\n",
    "                j=i\n",
    "                while j>0: \n",
    "                    j-=1\n",
    "                    if df[c][j]:\n",
    "                        df[c][i] = df[c][j]\n",
    "                        break\n",
    "    return df\n",
    "\n",
    "def copy_text(df):\n",
    "    for i in range(0,len(df.index)):  \n",
    "            if not df['Stralcio'][i]:\n",
    "                df['Stralcio'][i] = df['Testo'][i]\n",
    "    return df\n"
   ]
  },
  {
   "cell_type": "code",
   "execution_count": 4,
   "metadata": {},
   "outputs": [
    {
     "name": "stdout",
     "output_type": "stream",
     "text": [
      "Numero stralci: 35474\n",
      "Numero stralci dopo eliminazione: 35148\n"
     ]
    }
   ],
   "source": [
    "#Hyperion dataset\n",
    "df = pd.read_csv('../data/Original_csv/Hyperion.csv', na_filter=False)\n",
    "df = fill_null_features(df)\n",
    "\n",
    "print('Numero stralci: ' + str(len(df.index)))\n",
    "filter = df[\"Repertorio\"] != \"\"\n",
    "df = df[filter]\n",
    "df = df.applymap(str.lower)\n",
    "print('Numero stralci dopo eliminazione: ' + str(len(df.index)))"
   ]
  },
  {
   "cell_type": "code",
   "execution_count": 5,
   "metadata": {},
   "outputs": [],
   "source": [
    "#Lables uniformation uncased\n",
    "df['Repertorio'].replace('implicazioni','implicazione', inplace=True)\n",
    "df['Repertorio'].replace('previsioni','previsione', inplace=True)"
   ]
  },
  {
   "cell_type": "code",
   "execution_count": 53,
   "metadata": {},
   "outputs": [
    {
     "name": "stdout",
     "output_type": "stream",
     "text": [
      "35148\n",
      "35070\n"
     ]
    }
   ],
   "source": [
    "df1 = df.drop_duplicates(keep= False)\n",
    "print(len(df))\n",
    "print(len(df1))"
   ]
  },
  {
   "cell_type": "markdown",
   "metadata": {},
   "source": [
    "# Split"
   ]
  },
  {
   "cell_type": "code",
   "execution_count": null,
   "metadata": {},
   "outputs": [],
   "source": [
    "# split\n",
    "test_set_perc = 0.2\n",
    "val_set_perc = 0.1\n",
    "\n",
    "gb = df.groupby('Repertorio')\n",
    "train_list = []\n",
    "test_list = []\n",
    "val_list = []\n",
    "\n",
    "for x in gb.groups:\n",
    "    class_df = gb.get_group(x)\n",
    "\n",
    "    # Test set creation\n",
    "    test = class_df.sample(frac=test_set_perc, random_state=1464)\n",
    "    train = pd.concat([class_df,test]).drop_duplicates(keep=False)\n",
    "\n",
    "    # Validation set creation\n",
    "    val = train.sample(frac=val_set_perc)\n",
    "    train = pd.concat([train,val]).drop_duplicates(keep=False)\n",
    "\n",
    "\n",
    "    print(len(class_df))\n",
    "    print(len(train))\n",
    "    print(len(test))\n",
    "    print(len(val))\n",
    "    print(len(train.index) + len(test.index) + len(val.index))\n",
    "    print('----------------------------')\n",
    "\n",
    "    train_list.append(train)\n",
    "    test_list.append(test)\n",
    "    val_list.append(val)\n",
    "\n",
    "train_df = pd.concat(train_list)\n",
    "test_df = pd.concat(test_list)\n",
    "val_df = pd.concat(val_list)\n",
    "\n",
    "\n",
    "\"\"\"\n",
    "train_df.to_csv ('../data/Splitted/train_.csv', index = False, header=True )\n",
    "test_df.to_csv ('../data/Splitted/test_split.csv', index = False, header=True )\n",
    "\"\"\"\n",
    "\n",
    "\n",
    "    "
   ]
  },
  {
   "cell_type": "code",
   "execution_count": 38,
   "metadata": {},
   "outputs": [
    {
     "data": {
      "text/plain": [
       "Repertorio\n",
       "anticipazione                 53\n",
       "causa                        473\n",
       "commento                    4403\n",
       "conferma                     639\n",
       "considerazione               312\n",
       "contrapposizione            1413\n",
       "deresponsabilizzazione       638\n",
       "descrizione                 4882\n",
       "dichiarazione di intenti     643\n",
       "generalizzazione            1066\n",
       "giudizio                    2764\n",
       "giustificazione              440\n",
       "implicazione                 706\n",
       "non risposta                1163\n",
       "opinione                    1343\n",
       "possibilità                  616\n",
       "prescrizione                1920\n",
       "previsione                  1170\n",
       "proposta                     256\n",
       "ridimensionamento           1102\n",
       "sancire                     5627\n",
       "specificazione              1396\n",
       "valutazione                 2123\n",
       "Name: Repertorio, dtype: int64"
      ]
     },
     "execution_count": 38,
     "metadata": {},
     "output_type": "execute_result"
    }
   ],
   "source": [
    "train_df.groupby('Repertorio')['Repertorio'].count()"
   ]
  },
  {
   "cell_type": "code",
   "execution_count": 48,
   "metadata": {},
   "outputs": [
    {
     "name": "stdout",
     "output_type": "stream",
     "text": [
      "35148\n",
      "25249\n",
      "7031\n",
      "2803\n",
      "35083\n",
      "----------------------------\n"
     ]
    }
   ],
   "source": [
    "print(len(df))\n",
    "print(len(train_df))\n",
    "print(len(test_df))\n",
    "print(len(val_df))\n",
    "print(len(train_df) + len(test_df) + len(val_df.index))\n",
    "print('----------------------------')"
   ]
  },
  {
   "cell_type": "code",
   "execution_count": 41,
   "metadata": {},
   "outputs": [
    {
     "name": "stdout",
     "output_type": "stream",
     "text": [
      "7044\n"
     ]
    }
   ],
   "source": [
    "merged = pd.merge(test_df, train_df, on=['Domanda','Testo','Stralcio','Repertorio'], how='inner')\n",
    "print(len(merged))"
   ]
  },
  {
   "cell_type": "code",
   "execution_count": 7,
   "metadata": {},
   "outputs": [
    {
     "data": {
      "text/plain": [
       "\"\\ndf['Repertorio'].replace('Implicazioni','Implicazione', inplace=True)\\ndf['Repertorio'].replace('Previsioni','Previsione', inplace=True)\\ndf['Repertorio'].replace('causa','Causa', inplace=True)\\ndf['Repertorio'].replace('commento','Commento', inplace=True)\\ndf['Repertorio'].replace('contrapposizione','Contrapposizione', inplace=True)\\ndf['Repertorio'].replace('generalizzazione','Generalizzazione', inplace=True)\\ndf['Repertorio'].replace('giudizio','Giudizio', inplace=True)\\ndf['Repertorio'].replace('prescrizione','Prescrizione', inplace=True)\\ndf['Repertorio'].replace('previsione','Previsione', inplace=True)\\ndf['Repertorio'].replace('sancire','Sancire', inplace=True)\\ndf['Repertorio'].replace('specificazione','Specificazione', inplace=True)\\ndf['Repertorio'].replace('valutazione','Valutazione', inplace=True)\\n\""
      ]
     },
     "execution_count": 7,
     "metadata": {},
     "output_type": "execute_result"
    }
   ],
   "source": [
    "#Lables uniformation Cased\n",
    "\"\"\"\n",
    "df['Repertorio'].replace('Implicazioni','Implicazione', inplace=True)\n",
    "df['Repertorio'].replace('Previsioni','Previsione', inplace=True)\n",
    "df['Repertorio'].replace('causa','Causa', inplace=True)\n",
    "df['Repertorio'].replace('commento','Commento', inplace=True)\n",
    "df['Repertorio'].replace('contrapposizione','Contrapposizione', inplace=True)\n",
    "df['Repertorio'].replace('generalizzazione','Generalizzazione', inplace=True)\n",
    "df['Repertorio'].replace('giudizio','Giudizio', inplace=True)\n",
    "df['Repertorio'].replace('prescrizione','Prescrizione', inplace=True)\n",
    "df['Repertorio'].replace('previsione','Previsione', inplace=True)\n",
    "df['Repertorio'].replace('sancire','Sancire', inplace=True)\n",
    "df['Repertorio'].replace('specificazione','Specificazione', inplace=True)\n",
    "df['Repertorio'].replace('valutazione','Valutazione', inplace=True)\n",
    "\"\"\""
   ]
  }
 ],
 "metadata": {
  "interpreter": {
   "hash": "531bf1ddd0b9ee64f0e2ebd6527c520de4e2159f2ffcc26ba5e4b06431092b93"
  },
  "kernelspec": {
   "display_name": "Python 3.9.7 64-bit ('base': conda)",
   "language": "python",
   "name": "python3"
  },
  "language_info": {
   "codemirror_mode": {
    "name": "ipython",
    "version": 3
   },
   "file_extension": ".py",
   "mimetype": "text/x-python",
   "name": "python",
   "nbconvert_exporter": "python",
   "pygments_lexer": "ipython3",
   "version": "3.9.7"
  },
  "orig_nbformat": 4
 },
 "nbformat": 4,
 "nbformat_minor": 2
}
