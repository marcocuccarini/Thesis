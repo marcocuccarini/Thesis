{
 "cells": [
  {
   "cell_type": "markdown",
   "metadata": {},
   "source": [
    "# From xlsx to csv"
   ]
  },
  {
   "cell_type": "code",
   "execution_count": 74,
   "metadata": {},
   "outputs": [],
   "source": [
    "import pandas as pd"
   ]
  },
  {
   "cell_type": "code",
   "execution_count": 75,
   "metadata": {},
   "outputs": [],
   "source": [
    "def xlsx_to_csv(filename:str, columns:list, output_filename:str, output_columns:list):\n",
    "    xlsx = pd.ExcelFile(filename)\n",
    "    sheets= []\n",
    "    for sheet in xlsx.sheet_names:\n",
    "        df = pd.read_excel(xlsx, sheet, usecols=columns)\n",
    "        sheets.append(df)\n",
    "    df = pd.concat(sheets)\n",
    "    df.columns = output_columns\n",
    "    print('numero stralci: ' + str(len(df.index)))\n",
    "    df.to_csv (output_filename, index = False, header=True )"
   ]
  },
  {
   "cell_type": "code",
   "execution_count": 76,
   "metadata": {},
   "outputs": [
    {
     "name": "stdout",
     "output_type": "stream",
     "text": [
      "numero stralci: 35474\n"
     ]
    }
   ],
   "source": [
    "#Hyperion dataset\n",
    "filename = '../data/Original/Hyperion.xlsx'\n",
    "columns = ['DOMANDA', 'TESTO', 'STRALCIO', 'DENOMINAZIONE']\n",
    "output = '../data/Original_csv/Hyperion.csv'\n",
    "output_columns = ['Domanda', 'Testo', 'Stralcio', 'Repertorio']\n",
    "\n",
    "xlsx_to_csv(filename, columns, output, output_columns)"
   ]
  },
  {
   "cell_type": "code",
   "execution_count": 77,
   "metadata": {},
   "outputs": [
    {
     "name": "stdout",
     "output_type": "stream",
     "text": [
      "numero stralci: 13061\n"
     ]
    }
   ],
   "source": [
    "#2.1 dataset\n",
    "filename = '../data/Original/2.1.xlsx'\n",
    "columns = ['DOMANDA', 'TESTO', 'STRALCIO', 'DENOMINAZIONE']\n",
    "output = '../data/Original_csv/2.1.csv'\n",
    "output_columns = ['Domanda', 'Testo', 'Stralcio', 'Repertorio']\n",
    "\n",
    "xlsx_to_csv(filename, columns, output, output_columns)"
   ]
  },
  {
   "cell_type": "code",
   "execution_count": 78,
   "metadata": {},
   "outputs": [
    {
     "name": "stdout",
     "output_type": "stream",
     "text": [
      "numero stralci: 1506\n"
     ]
    }
   ],
   "source": [
    "#3.0 dataset\n",
    "filename = '../data/Original/3.0.xlsx'\n",
    "columns = ['DOMANDA', 'TESTO', 'STRALCIO', 'DENOMINAZIONE']\n",
    "output = '../data/Original_csv/3.0.csv'\n",
    "output_columns = ['Domanda', 'Testo', 'Stralcio', 'Repertorio']\n",
    "\n",
    "xlsx_to_csv(filename, columns, output, output_columns)"
   ]
  },
  {
   "cell_type": "code",
   "execution_count": 79,
   "metadata": {},
   "outputs": [
    {
     "name": "stdout",
     "output_type": "stream",
     "text": [
      "numero stralci: 7848\n"
     ]
    }
   ],
   "source": [
    "#S&D dataset SENIOR DENOMINATION\n",
    "filename = '../data/Original/S&D.xlsx'\n",
    "columns = ['TESTO DELLA DOMANDA', 'TESTO', \n",
    "            'DIVISIONE STRALCI SENIOR', 'DENOMINAZIONE SENIOR']\n",
    "output = '../data/Original_csv/S&D_senior.csv'\n",
    "output_columns = ['Domanda', 'Testo', 'Stralcio', 'Repertorio']\n",
    "\n",
    "xlsx_to_csv(filename, columns, output, output_columns)"
   ]
  },
  {
   "cell_type": "code",
   "execution_count": 80,
   "metadata": {},
   "outputs": [
    {
     "name": "stdout",
     "output_type": "stream",
     "text": [
      "numero stralci: 7848\n"
     ]
    }
   ],
   "source": [
    "#S&D dataset JUNIOR DENOMINATION\n",
    "filename = '../data/Original/S&D.xlsx'\n",
    "columns = ['TESTO DELLA DOMANDA', 'TESTO', \n",
    "            'DIVISIONE STRALCIO JUNIOR', 'DENOMINAZIONE JUNIOR']\n",
    "output = '../data/Original_csv/S&D_junior.csv'\n",
    "output_columns = ['Domanda', 'Testo', 'Stralcio', 'Repertorio']\n",
    "\n",
    "xlsx_to_csv(filename, columns, output, output_columns)"
   ]
  },
  {
   "cell_type": "markdown",
   "metadata": {},
   "source": [
    "# Full dataset generation\n",
    "With full dataset I mean the replication of the questions and texts for each empty cell"
   ]
  },
  {
   "cell_type": "code",
   "execution_count": 81,
   "metadata": {},
   "outputs": [],
   "source": [
    "def fill_null_features(df):\n",
    "    for c in ['Domanda','Testo']:\n",
    "        for i in range(0,len(df.index)):  \n",
    "            if not df[c][i]:\n",
    "                j=i\n",
    "                while j>0: \n",
    "                    j-=1\n",
    "                    if df[c][j]:\n",
    "                        df[c][i] = df[c][j]\n",
    "                        break\n",
    "    return df"
   ]
  },
  {
   "cell_type": "code",
   "execution_count": 105,
   "metadata": {},
   "outputs": [
    {
     "name": "stdout",
     "output_type": "stream",
     "text": [
      "Numero stralci: 35474\n",
      "Esempi con campi vuoti: 0\n"
     ]
    }
   ],
   "source": [
    "#Hyperion dataset\n",
    "df = pd.read_csv('../data/Original_csv/Hyperion.csv', na_filter=False)\n",
    "df = fill_null_features(df)\n",
    "df.to_csv('../data/Original_csv_full/Hyperion_full.csv', index = False, header=True)\n",
    "\n",
    "print('Numero stralci: ' + str(len(df.index)))\n",
    "print('Esempi con campi vuoti: ' + str(df.isnull().values.sum()))"
   ]
  },
  {
   "cell_type": "code",
   "execution_count": 104,
   "metadata": {},
   "outputs": [
    {
     "name": "stdout",
     "output_type": "stream",
     "text": [
      "Numero stralci: 13061\n",
      "Esempi con campi vuoti: 0\n"
     ]
    }
   ],
   "source": [
    "#2.1 dataset\n",
    "df = pd.read_csv('../data/Original_csv/2.1.csv', na_filter=False)\n",
    "df = fill_null_features(df)\n",
    "df.to_csv('../data/Original_csv_full/2.1_full.csv', index = False, header=True)\n",
    "\n",
    "print('Numero stralci: ' + str(len(df.index)))\n",
    "print('Esempi con campi vuoti: ' + str(df.isnull().values.sum()))"
   ]
  },
  {
   "cell_type": "code",
   "execution_count": 103,
   "metadata": {},
   "outputs": [
    {
     "name": "stdout",
     "output_type": "stream",
     "text": [
      "Numero stralci: 1506\n",
      "Esempi con campi vuoti: 0\n"
     ]
    }
   ],
   "source": [
    "#3.0 dataset\n",
    "df = pd.read_csv('../data/Original_csv/3.0.csv', na_filter=False)\n",
    "df = fill_null_features(df)\n",
    "df.to_csv('../data/Original_csv_full/3.0_full.csv', index = False, header=True)\n",
    "\n",
    "print('Numero stralci: ' + str(len(df.index)))\n",
    "print('Esempi con campi vuoti: ' + str(df.isnull().values.sum()))"
   ]
  },
  {
   "cell_type": "code",
   "execution_count": 102,
   "metadata": {},
   "outputs": [
    {
     "name": "stdout",
     "output_type": "stream",
     "text": [
      "Numero stralci: 7848\n",
      "Esempi con campi vuoti: 0\n"
     ]
    }
   ],
   "source": [
    "#S&D senior\n",
    "df = pd.read_csv('../data/Original_csv/S&D_senior.csv', na_filter=False)\n",
    "df = fill_null_features(df)\n",
    "df.to_csv('../data/Original_csv_full/S&D_senior_full.csv', index = False, header=True)\n",
    "\n",
    "print('Numero stralci: ' + str(len(df.index)))\n",
    "print('Esempi con campi vuoti: ' + str(df.isnull().values.sum()))"
   ]
  },
  {
   "cell_type": "code",
   "execution_count": 101,
   "metadata": {},
   "outputs": [
    {
     "name": "stdout",
     "output_type": "stream",
     "text": [
      "Numero stralci: 7848\n",
      "Esempi con campi vuoti: 0\n"
     ]
    }
   ],
   "source": [
    "#S&D junior\n",
    "df = pd.read_csv('../data/Original_csv/S&D_junior.csv', na_filter=False)\n",
    "df = fill_null_features(df)\n",
    "df.to_csv('../data/Original_csv_full/S&D_junior_full.csv', index = False, header=True)\n",
    "\n",
    "print('Numero stralci: ' + str(len(df.index)))\n",
    "print('Esempi con campi vuoti: ' + str(df.isnull().values.sum()))"
   ]
  }
 ],
 "metadata": {
  "interpreter": {
   "hash": "e7370f93d1d0cde622a1f8e1c04877d8463912d04d973331ad4851f04de6915a"
  },
  "kernelspec": {
   "display_name": "Python 3.10.0 64-bit",
   "language": "python",
   "name": "python3"
  },
  "language_info": {
   "codemirror_mode": {
    "name": "ipython",
    "version": 3
   },
   "file_extension": ".py",
   "mimetype": "text/x-python",
   "name": "python",
   "nbconvert_exporter": "python",
   "pygments_lexer": "ipython3",
   "version": "3.10.0"
  },
  "orig_nbformat": 4
 },
 "nbformat": 4,
 "nbformat_minor": 2
}
