{
 "cells": [
  {
   "cell_type": "code",
   "execution_count": 1,
   "metadata": {},
   "outputs": [
    {
     "name": "stdout",
     "output_type": "stream",
     "text": [
      "huggingface/tokenizers: The current process just got forked, after parallelism has already been used. Disabling parallelism to avoid deadlocks...\n",
      "To disable this warning, you can either:\n",
      "\t- Avoid using `tokenizers` before the fork if possible\n",
      "\t- Explicitly set the environment variable TOKENIZERS_PARALLELISM=(true | false)\n",
      "huggingface/tokenizers: The current process just got forked, after parallelism has already been used. Disabling parallelism to avoid deadlocks...\n",
      "To disable this warning, you can either:\n",
      "\t- Avoid using `tokenizers` before the fork if possible\n",
      "\t- Explicitly set the environment variable TOKENIZERS_PARALLELISM=(true | false)\n",
      "huggingface/tokenizers: The current process just got forked, after parallelism has already been used. Disabling parallelism to avoid deadlocks...\n",
      "To disable this warning, you can either:\n",
      "\t- Avoid using `tokenizers` before the fork if possible\n",
      "\t- Explicitly set the environment variable TOKENIZERS_PARALLELISM=(true | false)\n",
      "huggingface/tokenizers: The current process just got forked, after parallelism has already been used. Disabling parallelism to avoid deadlocks...\n",
      "To disable this warning, you can either:\n",
      "\t- Avoid using `tokenizers` before the fork if possible\n",
      "\t- Explicitly set the environment variable TOKENIZERS_PARALLELISM=(true | false)\n",
      "huggingface/tokenizers: The current process just got forked, after parallelism has already been used. Disabling parallelism to avoid deadlocks...\n",
      "To disable this warning, you can either:\n",
      "\t- Avoid using `tokenizers` before the fork if possible\n",
      "\t- Explicitly set the environment variable TOKENIZERS_PARALLELISM=(true | false)\n",
      "huggingface/tokenizers: The current process just got forked, after parallelism has already been used. Disabling parallelism to avoid deadlocks...\n",
      "To disable this warning, you can either:\n",
      "\t- Avoid using `tokenizers` before the fork if possible\n",
      "\t- Explicitly set the environment variable TOKENIZERS_PARALLELISM=(true | false)\n"
     ]
    },
    {
     "name": "stderr",
     "output_type": "stream",
     "text": [
      "Info (NVML): NVML Shared Library Not Found. GPU usage metrics may not be reported. For more information, see https://docs-legacy.neptune.ai/logging-and-managing-experiment-results/logging-experiment-data.html#hardware-consumption \n"
     ]
    },
    {
     "name": "stdout",
     "output_type": "stream",
     "text": [
      "https://app.neptune.ai/mibo8/Rep/e/REP-200\n",
      "Remember to stop your run once you’ve finished logging your metadata (https://docs.neptune.ai/api-reference/run#stop). It will be stopped automatically only when the notebook kernel/interactive console is terminated.\n"
     ]
    }
   ],
   "source": [
    "import sys\n",
    "sys.path.append('./src')\n",
    "\n",
    "import os\n",
    "\n",
    "import pandas as pd\n",
    "import torch\n",
    "from transformers import AutoModelForSequenceClassification, AutoTokenizer\n",
    "from datasets.hyperion_dataset import HyperionDataset\n",
    "from trainers.mp_trainer import MPTrainer\n",
    "from utils.utils import seed_everything\n",
    "\n",
    "batch_size = 2\n",
    "\n",
    "seed_everything(4321)\n",
    "\n",
    "#cluster paths\n",
    "#df = pd.read_csv('./RepML/data/Splitted_full/Hyperion_train.csv', na_filter=False)\n",
    "#test_df = pd.read_csv('./RepML/data/Splitted_full/Hyperion_test.csv', na_filter=False)\n",
    "\n",
    "#local paths\n",
    "df = pd.read_csv('./data/Splitted_full/Hyperion_train.csv', na_filter=False)\n",
    "test_df = pd.read_csv('./data/Splitted_full/Hyperion_test.csv', na_filter=False)\n",
    "\n",
    "model_name = \"dbmdz/bert-base-italian-xxl-uncased\"\n",
    "test_dataset = HyperionDataset(test_df.head(100), model_name)\n",
    "\n",
    "learning_rate = 1e-5\n",
    "batch_size = 2\n",
    "n_epochs = 1\n",
    "\n",
    "trainer = MPTrainer(batch_size, learning_rate, n_epochs, torch.nn.NLLLoss())\n",
    "\n",
    "model = AutoModelForSequenceClassification.from_pretrained('MiBo/RepML')\n",
    "\n"
   ]
  },
  {
   "cell_type": "code",
   "execution_count": 2,
   "metadata": {},
   "outputs": [
    {
     "name": "stdout",
     "output_type": "stream",
     "text": [
      "\n",
      "Running Test...\n",
      "  Test Loss: 2.54\n",
      "  Test took: 0:00:17\n"
     ]
    }
   ],
   "source": [
    "pred, gt = trainer.test(model,test_dataset)"
   ]
  },
  {
   "cell_type": "code",
   "execution_count": 14,
   "metadata": {},
   "outputs": [],
   "source": [
    "df = test_df.head(100)"
   ]
  },
  {
   "cell_type": "code",
   "execution_count": null,
   "metadata": {},
   "outputs": [],
   "source": []
  },
  {
   "cell_type": "code",
   "execution_count": 15,
   "metadata": {},
   "outputs": [],
   "source": [
    "error_dict = {\n",
    "    'Stralcio' : df['Stralcio'].tolist(),\n",
    "    'Repertorio_corretto' : decode_labels(gt),\n",
    "    'Repertorio_predetto' : decode_labels(pred)\n",
    "}\n",
    "\n",
    "error_df = pd.DataFrame.from_dict(error_dict)"
   ]
  },
  {
   "cell_type": "code",
   "execution_count": 16,
   "metadata": {},
   "outputs": [
    {
     "data": {
      "text/html": [
       "<div>\n",
       "<style scoped>\n",
       "    .dataframe tbody tr th:only-of-type {\n",
       "        vertical-align: middle;\n",
       "    }\n",
       "\n",
       "    .dataframe tbody tr th {\n",
       "        vertical-align: top;\n",
       "    }\n",
       "\n",
       "    .dataframe thead th {\n",
       "        text-align: right;\n",
       "    }\n",
       "</style>\n",
       "<table border=\"1\" class=\"dataframe\">\n",
       "  <thead>\n",
       "    <tr style=\"text-align: right;\">\n",
       "      <th></th>\n",
       "      <th>Stralcio</th>\n",
       "      <th>Repertorio_corretto</th>\n",
       "      <th>Repertorio_predetto</th>\n",
       "    </tr>\n",
       "  </thead>\n",
       "  <tbody>\n",
       "    <tr>\n",
       "      <th>0</th>\n",
       "      <td>aia ha anche affrontato il tema dei centri est...</td>\n",
       "      <td>0</td>\n",
       "      <td>tensor(7)</td>\n",
       "    </tr>\n",
       "    <tr>\n",
       "      <th>1</th>\n",
       "      <td>e il suo vaccino che mette a disposizione di a...</td>\n",
       "      <td>0</td>\n",
       "      <td>tensor(17)</td>\n",
       "    </tr>\n",
       "    <tr>\n",
       "      <th>2</th>\n",
       "      <td>Se anche le altre regioni facessero lo stesso...</td>\n",
       "      <td>0</td>\n",
       "      <td>tensor(15)</td>\n",
       "    </tr>\n",
       "    <tr>\n",
       "      <th>3</th>\n",
       "      <td>Se la sperimentazione riesce questo tipo di ta...</td>\n",
       "      <td>0</td>\n",
       "      <td>tensor(15)</td>\n",
       "    </tr>\n",
       "    <tr>\n",
       "      <th>4</th>\n",
       "      <td>#Veneto, #Zaia: “#Lockdown sarebbe una tragedia,</td>\n",
       "      <td>0</td>\n",
       "      <td>tensor(17)</td>\n",
       "    </tr>\n",
       "    <tr>\n",
       "      <th>...</th>\n",
       "      <td>...</td>\n",
       "      <td>...</td>\n",
       "      <td>...</td>\n",
       "    </tr>\n",
       "    <tr>\n",
       "      <th>95</th>\n",
       "      <td>Alla fine, non è stata la quarantena a limitar...</td>\n",
       "      <td>1</td>\n",
       "      <td>tensor(1)</td>\n",
       "    </tr>\n",
       "    <tr>\n",
       "      <th>96</th>\n",
       "      <td>e non possiamo intubare tanti pazienti perché ...</td>\n",
       "      <td>1</td>\n",
       "      <td>tensor(11)</td>\n",
       "    </tr>\n",
       "    <tr>\n",
       "      <th>97</th>\n",
       "      <td>Non si registrano grossi problemi se non quell...</td>\n",
       "      <td>1</td>\n",
       "      <td>tensor(7)</td>\n",
       "    </tr>\n",
       "    <tr>\n",
       "      <th>98</th>\n",
       "      <td>«Non sono in quarantena perché ho incontrato ...</td>\n",
       "      <td>1</td>\n",
       "      <td>tensor(20)</td>\n",
       "    </tr>\n",
       "    <tr>\n",
       "      <th>99</th>\n",
       "      <td>qualcuno allora gli chieda di spiegare perché,...</td>\n",
       "      <td>1</td>\n",
       "      <td>tensor(6)</td>\n",
       "    </tr>\n",
       "  </tbody>\n",
       "</table>\n",
       "<p>100 rows × 3 columns</p>\n",
       "</div>"
      ],
      "text/plain": [
       "                                             Stralcio  Repertorio_corretto  \\\n",
       "0   aia ha anche affrontato il tema dei centri est...                    0   \n",
       "1   e il suo vaccino che mette a disposizione di a...                    0   \n",
       "2    Se anche le altre regioni facessero lo stesso...                    0   \n",
       "3   Se la sperimentazione riesce questo tipo di ta...                    0   \n",
       "4    #Veneto, #Zaia: “#Lockdown sarebbe una tragedia,                    0   \n",
       "..                                                ...                  ...   \n",
       "95  Alla fine, non è stata la quarantena a limitar...                    1   \n",
       "96  e non possiamo intubare tanti pazienti perché ...                    1   \n",
       "97  Non si registrano grossi problemi se non quell...                    1   \n",
       "98   «Non sono in quarantena perché ho incontrato ...                    1   \n",
       "99  qualcuno allora gli chieda di spiegare perché,...                    1   \n",
       "\n",
       "   Repertorio_predetto  \n",
       "0            tensor(7)  \n",
       "1           tensor(17)  \n",
       "2           tensor(15)  \n",
       "3           tensor(15)  \n",
       "4           tensor(17)  \n",
       "..                 ...  \n",
       "95           tensor(1)  \n",
       "96          tensor(11)  \n",
       "97           tensor(7)  \n",
       "98          tensor(20)  \n",
       "99           tensor(6)  \n",
       "\n",
       "[100 rows x 3 columns]"
      ]
     },
     "execution_count": 16,
     "metadata": {},
     "output_type": "execute_result"
    }
   ],
   "source": [
    "error_df"
   ]
  }
 ],
 "metadata": {
  "interpreter": {
   "hash": "531bf1ddd0b9ee64f0e2ebd6527c520de4e2159f2ffcc26ba5e4b06431092b93"
  },
  "kernelspec": {
   "display_name": "Python 3.9.7 64-bit ('base': conda)",
   "language": "python",
   "name": "python3"
  },
  "language_info": {
   "codemirror_mode": {
    "name": "ipython",
    "version": 3
   },
   "file_extension": ".py",
   "mimetype": "text/x-python",
   "name": "python",
   "nbconvert_exporter": "python",
   "pygments_lexer": "ipython3",
   "version": "3.9.7"
  },
  "orig_nbformat": 4
 },
 "nbformat": 4,
 "nbformat_minor": 2
}
